{
 "cells": [
  {
   "cell_type": "code",
   "execution_count": 5,
   "metadata": {},
   "outputs": [],
   "source": [
    "import os\n",
    "import math\n",
    "import csv\n",
    "\n",
    "import numpy as np\n",
    "import geopandas as gpd\n",
    "\n",
    "import rasterio\n",
    "from rasterio.plot import show, plotting_extent\n",
    "from rasterio.mask import mask\n",
    "from rasterio.merge import merge\n",
    "\n",
    "from grass_session import Session\n",
    "import grass.script as gs\n",
    "import grass.script.setup as gsetup"
   ]
  },
  {
   "cell_type": "code",
   "execution_count": 6,
   "metadata": {},
   "outputs": [],
   "source": [
    "os.chdir('/home/shirobakaidou/docker_lab/morph_index/test/')\n",
    "os.getcwd()\n",
    "\n",
    "os.mkdir('output_test')"
   ]
  },
  {
   "cell_type": "code",
   "execution_count": 7,
   "metadata": {},
   "outputs": [],
   "source": [
    "# Define Input Path\n",
    "inpath = os.path.join(os.getcwd(), 'input')\n",
    "\n",
    "# Define Output Path\n",
    "outpath = os.path.join(os.getcwd(), 'output')\n",
    "\n",
    "# Input DEM\n",
    "dem_input = 'hydroDEM.tif'\n",
    "\n",
    "# Input Basin\n",
    "basin_input = 'basin.geojson'\n",
    "\n",
    "# Define target CRS: WGS 84 / UTM zone 48N\n",
    "dst_crs = 'EPSG:32648'\n",
    "\n",
    "# Define GRASS Database\n",
    "grass_dbase = os.path.join(os.getcwd(), 'grass')\n",
    "\n",
    "# Define GRASS Location\n",
    "grass_location = 'mylocation'"
   ]
  },
  {
   "cell_type": "markdown",
   "metadata": {},
   "source": [
    "## Preprocessing"
   ]
  },
  {
   "cell_type": "markdown",
   "metadata": {},
   "source": [
    "### 1. Reproject DEM"
   ]
  },
  {
   "cell_type": "code",
   "execution_count": 8,
   "metadata": {},
   "outputs": [],
   "source": [
    "# Define function to reproject Raster\n",
    "def reproject_raster(in_path, out_path, dst_crs):\n",
    "    \n",
    "    with rasterio.open(in_path) as src:\n",
    "        transform, width, height = rasterio.warp.calculate_default_transform(\n",
    "            src.crs, dst_crs, src.width, src.height, *src.bounds)\n",
    "        kwargs = src.meta.copy()\n",
    "        kwargs.update({\n",
    "            'crs': dst_crs,\n",
    "            'transform': transform,\n",
    "            'width': width,\n",
    "            'height': height\n",
    "        })\n",
    "    \n",
    "        with rasterio.open(out_path, 'w', **kwargs) as dst:\n",
    "            for i in range(1, src.count + 1):\n",
    "                rasterio.warp.reproject(\n",
    "                    source = rasterio.band(src, i),\n",
    "                    destination = rasterio.band(dst, i),\n",
    "                    src_transform = src.transform,\n",
    "                    src_crs = src.crs,\n",
    "                    dst_transform = transform,\n",
    "                    dst_crs = dst_crs,\n",
    "                    resampling = rasterio.warp.Resampling.nearest)\n",
    "    return(print(\"The reprojected DEM is stored as: \", path_dem_prj))"
   ]
  },
  {
   "cell_type": "code",
   "execution_count": 9,
   "metadata": {},
   "outputs": [
    {
     "name": "stdout",
     "output_type": "stream",
     "text": [
      "The reprojected DEM is stored as:  /home/shirobakaidou/docker_lab/morph_index/test/output/hydroDEM_prj.tif\n"
     ]
    }
   ],
   "source": [
    "# Input DEM\n",
    "path_dem = os.path.join(inpath, dem_input)\n",
    "\n",
    "# Output DEM\n",
    "path_dem_prj = os.path.join(outpath, dem_input.split(\".\")[0]+\"_prj.\"+dem_input.split(\".\")[1])\n",
    "\n",
    "# Reproject\n",
    "reproject_raster(in_path = path_dem, \n",
    "                 out_path = path_dem_prj, \n",
    "                 dst_crs = dst_crs)"
   ]
  },
  {
   "cell_type": "markdown",
   "metadata": {},
   "source": [
    "### 2. Reproject Basin"
   ]
  },
  {
   "cell_type": "code",
   "execution_count": 10,
   "metadata": {},
   "outputs": [],
   "source": [
    "# Input Basin\n",
    "path_basin = os.path.join(inpath, basin_input)\n",
    "\n",
    "basin = gpd.read_file(path_basin)\n",
    "\n",
    "# Reproject\n",
    "basin_prj = basin.to_crs(dst_crs)\n",
    "\n",
    "# Output Basin\n",
    "path_basin_prj = os.path.join(outpath, basin_input.split(\".\")[0]+\"_prj\")\n",
    "basin_prj.to_file(path_basin_prj)"
   ]
  },
  {
   "cell_type": "markdown",
   "metadata": {},
   "source": [
    "### 3. Set up GRASS Environment"
   ]
  },
  {
   "cell_type": "code",
   "execution_count": 11,
   "metadata": {},
   "outputs": [
    {
     "name": "stdout",
     "output_type": "stream",
     "text": [
      "{'GISDBASE': '/home/shirobakaidou/docker_lab/morph_index/test/grass', 'LOCATION_NAME': 'mylocation', 'MAPSET': 'PERMANENT'}\n"
     ]
    }
   ],
   "source": [
    "# Define GRASS Database\n",
    "dbase = grass_dbase\n",
    "location = grass_location\n",
    "\n",
    "# Set GISBASE Environment Variable\n",
    "gisbase = '/usr/lib/grass78'\n",
    "os.environ['GISBASE'] = str(gisbase)\n",
    "\n",
    "# Initialize\n",
    "gsetup.init(os.environ['GISBASE'], dbase, location, 'PERMANENT')\n",
    "\n",
    "print(gs.gisenv())"
   ]
  },
  {
   "cell_type": "code",
   "execution_count": 12,
   "metadata": {},
   "outputs": [],
   "source": [
    "# Create Init Location\n",
    "gs.create_location(dbase, location)"
   ]
  },
  {
   "cell_type": "code",
   "execution_count": 13,
   "metadata": {},
   "outputs": [
    {
     "name": "stderr",
     "output_type": "stream",
     "text": [
      "Default region was updated to the new projection, but if you have multiple\n",
      "mapsets `g.region -d` should be run in each to update the region from the\n",
      "default\n",
      "Projection information updated\n"
     ]
    },
    {
     "data": {
      "text/plain": [
       "0"
      ]
     },
     "execution_count": 13,
     "metadata": {},
     "output_type": "execute_result"
    }
   ],
   "source": [
    "# Create New Location in Target Projection\n",
    "gs.run_command('g.proj', \n",
    "               flags = \"c\",\n",
    "               georef = path_dem_prj)"
   ]
  },
  {
   "cell_type": "code",
   "execution_count": 14,
   "metadata": {},
   "outputs": [
    {
     "name": "stderr",
     "output_type": "stream",
     "text": [
      "WARNING: <PERMANENT> is already the current mapset\n"
     ]
    },
    {
     "data": {
      "text/plain": [
       "0"
      ]
     },
     "execution_count": 14,
     "metadata": {},
     "output_type": "execute_result"
    }
   ],
   "source": [
    "# Switch to Projected Location, Mapset \"PERMANENT\"\n",
    "gs.run_command('g.mapset', \n",
    "               location = grass_location,\n",
    "               mapset = \"PERMANENT\")"
   ]
  },
  {
   "cell_type": "code",
   "execution_count": 15,
   "metadata": {},
   "outputs": [],
   "source": [
    "# Install hydrology related GRASS Addons\n",
    "\n",
    "#gs.run_command('g.extension', extension='r.basin', operation='add')\n",
    "#gs.run_command('g.extension', extension='r.hypso', operation='add')\n",
    "#gs.run_command('g.extension', extension='r.stream.basins', operation='add')\n",
    "#gs.run_command('g.extension', extension='r.stream.distance', operation='add')\n",
    "#gs.run_command('g.extension', extension='r.stream.order', operation='add')\n",
    "#gs.run_command('g.extension', extension='r.stream.snap', operation='add')\n",
    "#gs.run_command('g.extension', extension='r.stream.stats', operation='add')\n",
    "#gs.run_command('g.extension', extension='r.width.funct', operation='add')\n",
    "#gs.run_command('g.extension', extension='r.stream.channel', operation='add')\n",
    "#gs.run_command('g.extension', extension='r.stream.segment', operation='add')\n",
    "#gs.run_command('g.extension', extension='r.stream.slope', operation='add')"
   ]
  },
  {
   "cell_type": "markdown",
   "metadata": {},
   "source": [
    "### 4. Mask DEM by Basin"
   ]
  },
  {
   "cell_type": "markdown",
   "metadata": {},
   "source": [
    "***!!!NOTE: At this step, loop over each polygon in the SHP file.***"
   ]
  },
  {
   "cell_type": "code",
   "execution_count": 16,
   "metadata": {},
   "outputs": [],
   "source": [
    "# Convert Geometry of the SHP into JSON Format, \n",
    "# so that rasterio can read it\n",
    "def getFeatures(gdf):\n",
    "    import json\n",
    "    return [json.loads(gdf.to_json())['features'][0]['geometry']]\n",
    "\n",
    "basin_geom = getFeatures(basin_prj)"
   ]
  },
  {
   "cell_type": "code",
   "execution_count": 17,
   "metadata": {},
   "outputs": [],
   "source": [
    "# Load Projected DEM\n",
    "dem_prj = rasterio.open(path_dem_prj)"
   ]
  },
  {
   "cell_type": "code",
   "execution_count": 18,
   "metadata": {},
   "outputs": [],
   "source": [
    "# Mask DEM by Basin\n",
    "dem_msk, out_transform = mask(dataset=dem_prj, shapes=basin_geom, crop=True)\n",
    "\n",
    "# Mask out NA\n",
    "dem_msk = np.ma.masked_array(dem_msk, mask=(dem_msk <= 0))"
   ]
  },
  {
   "cell_type": "markdown",
   "metadata": {},
   "source": [
    "### 5. Export Masked DEM"
   ]
  },
  {
   "cell_type": "code",
   "execution_count": 19,
   "metadata": {},
   "outputs": [],
   "source": [
    "# Copy Metadata of projected DEM before masking\n",
    "out_meta = dem_prj.meta.copy()\n",
    "\n",
    "out_meta.update({\n",
    "    \"driver\": \"GTiff\",\n",
    "    \"count\": dem_msk.shape[0],\n",
    "    \"height\": dem_msk.shape[1],\n",
    "    \"width\": dem_msk.shape[2],\n",
    "    \"transform\": out_transform,\n",
    "    \"crs\": dem_prj.crs\n",
    "})"
   ]
  },
  {
   "cell_type": "code",
   "execution_count": 20,
   "metadata": {},
   "outputs": [],
   "source": [
    "# Export Masked DEM\n",
    "path_dem_msk = os.path.join(outpath, dem_input.split(\".\")[0]+\"_msk.\"+dem_input.split(\".\")[1])\n",
    "with rasterio.open(path_dem_msk, \"w\", **out_meta) as dest:\n",
    "    dest.write(dem_msk)"
   ]
  },
  {
   "cell_type": "markdown",
   "metadata": {},
   "source": [
    "## Calculate Hydromorph Param using GRASS"
   ]
  },
  {
   "cell_type": "code",
   "execution_count": 17,
   "metadata": {},
   "outputs": [
    {
     "name": "stderr",
     "output_type": "stream",
     "text": [
      "WARNING: Raster map <r_elevation> already exists and will be overwritten\n"
     ]
    },
    {
     "data": {
      "text/plain": [
       "0"
      ]
     },
     "execution_count": 17,
     "metadata": {},
     "output_type": "execute_result"
    }
   ],
   "source": [
    "# Read DEM\n",
    "gs.run_command('r.in.gdal', \n",
    "               flags='e', \n",
    "               input = path_dem_msk,\n",
    "               output='r_elevation',\n",
    "               quiet=True,\n",
    "               overwrite=True)"
   ]
  },
  {
   "cell_type": "code",
   "execution_count": 18,
   "metadata": {},
   "outputs": [
    {
     "data": {
      "text/plain": [
       "0"
      ]
     },
     "execution_count": 18,
     "metadata": {},
     "output_type": "execute_result"
    }
   ],
   "source": [
    "## Set Region\n",
    "gs.run_command('g.region', \n",
    "               flags=\"a\",\n",
    "               raster='r_elevation',\n",
    "               quiet=True,\n",
    "               overwrite=True)"
   ]
  },
  {
   "cell_type": "code",
   "execution_count": 19,
   "metadata": {},
   "outputs": [
    {
     "name": "stderr",
     "output_type": "stream",
     "text": [
      "threshold : 129.45662942175616\n"
     ]
    }
   ],
   "source": [
    "# Define Threshold:\n",
    "# source: https://github.com/OSGeo/grass-addons/blob/master/grass7/raster/r.basin/r.basin.py\n",
    "resolution = gs.region()['nsres']\n",
    "th = 1000000 / (resolution**2)\n",
    "gs.message( \"threshold : %s\" % th )"
   ]
  },
  {
   "cell_type": "markdown",
   "metadata": {},
   "source": [
    "### 1. Watershed (Flow Direction & Flow Accumulation)"
   ]
  },
  {
   "cell_type": "code",
   "execution_count": 20,
   "metadata": {},
   "outputs": [
    {
     "name": "stderr",
     "output_type": "stream",
     "text": [
      "Flow Direction map and Flow Accumulation map done.\n"
     ]
    }
   ],
   "source": [
    "# Watershed SFD (single flow direction)\n",
    "gs.run_command('r.watershed',\n",
    "               flags='ams',\n",
    "               elevation='r_elevation',\n",
    "               accumulation='r_accumulation', # output accumulation\n",
    "               drainage='r_drainage', # output flow direction\n",
    "               convergence=5,\n",
    "               quiet=True,\n",
    "               overwrite=True)\n",
    "gs.message(\"Flow Direction map and Flow Accumulation map done.\")"
   ]
  },
  {
   "cell_type": "markdown",
   "metadata": {},
   "source": [
    "### 2. Stream & Stream Order"
   ]
  },
  {
   "cell_type": "code",
   "execution_count": 21,
   "metadata": {},
   "outputs": [
    {
     "name": "stderr",
     "output_type": "stream",
     "text": [
      "Stream Extraction done.\n"
     ]
    }
   ],
   "source": [
    "# Stream Extraction\n",
    "gs.run_command('r.stream.extract', \n",
    "               elevation = 'r_elevation',\n",
    "               accumulation = 'r_accumulation',\n",
    "               threshold = th,\n",
    "               #d8cut =  1000000000,\n",
    "               mexp = 0,\n",
    "               stream_rast = 'r_stream_e', # output unique stream ids\n",
    "               direction = 'r_drainage_e',\n",
    "               quiet=True,\n",
    "               overwrite=True)\n",
    "gs.message(\"Stream Extraction done.\")"
   ]
  },
  {
   "cell_type": "code",
   "execution_count": 22,
   "metadata": {},
   "outputs": [
    {
     "name": "stderr",
     "output_type": "stream",
     "text": [
      "Stream order maps of Strahler, Horton, Hack and Shreeve are created.\n"
     ]
    }
   ],
   "source": [
    "# Create stream order maps: strahler, horton, hack, shreeve\n",
    "gs.run_command('r.stream.order',\n",
    "               stream_rast = 'r_stream_e',\n",
    "               direction = 'r_drainage_e',\n",
    "               strahler = 'r_strahler', # output Strahler order\n",
    "               shreve = 'r_shreve', # output Shreve order\n",
    "               horton = 'r_horton', # output Horton order\n",
    "               hack = 'r_hack', # output Hack order\n",
    "               quiet=True,\n",
    "               overwrite=True)\n",
    "gs.message(\"Stream order maps of Strahler, Horton, Hack and Shreeve are created.\")"
   ]
  },
  {
   "cell_type": "markdown",
   "metadata": {},
   "source": [
    "### 3. Delineate Basin"
   ]
  },
  {
   "cell_type": "code",
   "execution_count": 23,
   "metadata": {},
   "outputs": [
    {
     "name": "stderr",
     "output_type": "stream",
     "text": [
      "WARNING: Vector map <v_outlet> already exists and will be overwritten\n",
      "WARNING: Vector map <v_outlet_snap> already exists and will be overwritten\n",
      "WARNING: Vector map <v_basin> already exists and will be overwritten\n",
      "Delineation of basin done!\n"
     ]
    }
   ],
   "source": [
    "# Delineation of basin: Create outlet\n",
    "# Create outlet\n",
    "gs.write_command('v.in.ascii',\n",
    "                 input='-',\n",
    "                 output='v_outlet',\n",
    "                 sep=\",\",\n",
    "                 stdin=\"%s,9999\" % (\"490282.15625,1966838\"), # <modify coordinates>\n",
    "                 quiet=True,\n",
    "                 overwrite=True)\n",
    "# The point is snapped to the nearest point which lies on the streamline\n",
    "gs.run_command('r.stream.snap',\n",
    "               input='v_outlet', \n",
    "               stream_rast='r_stream_e', # Input stream network\n",
    "               output='v_outlet_snap', # output vector points map\n",
    "               quiet=True,\n",
    "               overwrite=True)\n",
    "gs.run_command('v.to.rast',\n",
    "               input='v_outlet_snap',\n",
    "               output='r_outlet',\n",
    "               use='cat',\n",
    "               type='point',\n",
    "               layer=1,\n",
    "               value=1,\n",
    "               quiet=True,\n",
    "               overwrite=True)\n",
    "# Delineates basins\n",
    "gs.run_command('r.stream.basins',\n",
    "               direction='r_drainage_e', # Input flow direction\n",
    "               points='v_outlet_snap', # Input vector points\n",
    "               basins='r_basin', # Output basin\n",
    "               quiet=True,\n",
    "               overwrite=True)\n",
    "# Create Basin Mask (Vector)\n",
    "gs.run_command('r.to.vect',\n",
    "               input='r_basin',\n",
    "               output='v_basin',\n",
    "               type='area',\n",
    "               flags='sv',\n",
    "               quiet=True,\n",
    "               overwrite=True)\n",
    "gs.message(\"Delineation of basin done!\")"
   ]
  },
  {
   "cell_type": "markdown",
   "metadata": {},
   "source": [
    "### P: Basin Area & Perimeter"
   ]
  },
  {
   "cell_type": "code",
   "execution_count": 24,
   "metadata": {},
   "outputs": [
    {
     "name": "stderr",
     "output_type": "stream",
     "text": [
      "WARNING: Values in column <perimeter> will be overwritten\n",
      "WARNING: Values in column <area> will be overwritten\n",
      "Column 'Area' and 'Perimeter' are populated!\n"
     ]
    }
   ],
   "source": [
    "# Add two columns to the table 'basin': Area and Perimeter\n",
    "gs.run_command('v.db.addcolumn',\n",
    "               map='v_basin',\n",
    "               columns='area double precision') # name & type\n",
    "gs.run_command('v.db.addcolumn',\n",
    "               map='v_basin',\n",
    "               columns='perimeter double precision')\n",
    "\n",
    "# Populate Perimeter Column\n",
    "gs.run_command('v.to.db',\n",
    "               map='v_basin',\n",
    "               type='line,boundary',\n",
    "               layer=1,\n",
    "               qlayer=1,\n",
    "               option='perimeter',\n",
    "               units='kilometers',\n",
    "               columns='perimeter',\n",
    "               quiet=True,\n",
    "               overwrite=True)\n",
    "gs.run_command('v.to.db',\n",
    "               map='v_basin',\n",
    "               type='line,boundary',\n",
    "               layer=1,\n",
    "               qlayer=1,\n",
    "               option='area',\n",
    "               units='kilometers',\n",
    "               columns='area',\n",
    "               #flags='c',\n",
    "               quiet=True,\n",
    "               overwrite=True)\n",
    "gs.message(\"Column 'Area' and 'Perimeter' are populated!\")"
   ]
  },
  {
   "cell_type": "code",
   "execution_count": 25,
   "metadata": {},
   "outputs": [
    {
     "name": "stdout",
     "output_type": "stream",
     "text": [
      "The perimeter of the basin is 111.389201 km; \n",
      " The area of the basin is 263.591175 km2\n"
     ]
    }
   ],
   "source": [
    "# Export Selected Attributes\n",
    "gs.run_command('v.db.select',\n",
    "               map='v_basin',\n",
    "               column='perimeter, area',\n",
    "               file=os.path.join(outpath,'basin_area_perimeter'),\n",
    "               overwrite=True)\n",
    "\n",
    "# Read Perimeter and Area from the text file\n",
    "tmp = open(os.path.join(outpath,\"basin_area_perimeter\"), \"r\")\n",
    "tmp = tmp.read()\n",
    "\n",
    "# Extract Perimeter and Area\n",
    "basin_perimeter = float(tmp.split('\\n')[1].split('|')[0])\n",
    "basin_area = float(tmp.split('\\n')[1].split('|')[1])\n",
    "print(\"The perimeter of the basin is\",basin_perimeter, \"km; \\n\",\n",
    "      \"The area of the basin is\", basin_area, \"km2\") # both km"
   ]
  },
  {
   "cell_type": "markdown",
   "metadata": {},
   "source": [
    "### P: Circularity Ratio"
   ]
  },
  {
   "cell_type": "code",
   "execution_count": 26,
   "metadata": {},
   "outputs": [
    {
     "name": "stdout",
     "output_type": "stream",
     "text": [
      "Circularity Ratio is 0.26696513826844187\n"
     ]
    }
   ],
   "source": [
    "# Circularity Ratio\n",
    "circularity_ratio = (4*math.pi*basin_area)/(basin_perimeter**2)\n",
    "print(\"Circularity Ratio is\", circularity_ratio)"
   ]
  },
  {
   "cell_type": "markdown",
   "metadata": {},
   "source": [
    "### 4. Outlet"
   ]
  },
  {
   "cell_type": "code",
   "execution_count": 27,
   "metadata": {},
   "outputs": [
    {
     "name": "stderr",
     "output_type": "stream",
     "text": [
      "WARNING: Values in column <cat> will be overwritten\n"
     ]
    },
    {
     "name": "stdout",
     "output_type": "stream",
     "text": [
      "The east and north coordinateof outlet is 490282.15625 , 1966838\n"
     ]
    },
    {
     "name": "stderr",
     "output_type": "stream",
     "text": [
      "WARNING: Values in column <x> will be overwritten\n",
      "WARNING: Values in column <y> will be overwritten\n"
     ]
    }
   ],
   "source": [
    "# Get coordinates of outlet (belonging to stream network)\n",
    "gs.run_command('v.db.addtable', map='v_outlet_snap',\n",
    "               quiet=True,\n",
    "               overwrite=True)\n",
    "\n",
    "gs.run_command('v.db.addcolumn',\n",
    "               map='v_outlet_snap',\n",
    "               columns='x double precision, y double precision',\n",
    "               quiet=True,\n",
    "               overwrite=True)\n",
    "\n",
    "gs.run_command('v.to.db',\n",
    "               map='v_outlet_snap',\n",
    "               option='coor',\n",
    "               col='x,y',\n",
    "               quiet=True,\n",
    "               overwrite=True)\n",
    "\n",
    "gs.run_command('v.out.ascii',\n",
    "               input='v_outlet_snap',\n",
    "               output=os.path.join(outpath,'outlet_coords.txt'),\n",
    "               cats=1,\n",
    "               format=\"point\",\n",
    "               quiet=True,\n",
    "               overwrite=True)\n",
    "\n",
    "outlet_coords = open(os.path.join(outpath,'outlet_coords.txt')).readline()\n",
    "east_o, north_o, cat = outlet_coords.split('|')\n",
    "print(\"The east and north coordinateof outlet is\", east_o, \",\", north_o)"
   ]
  },
  {
   "cell_type": "markdown",
   "metadata": {},
   "source": [
    "### 5. Mainchannel"
   ]
  },
  {
   "cell_type": "code",
   "execution_count": 28,
   "metadata": {},
   "outputs": [
    {
     "name": "stderr",
     "output_type": "stream",
     "text": [
      "WARNING: Vector map <v_mainchannel> already exists and will be overwritten\n",
      "Main Channel is extracted.\n"
     ]
    }
   ],
   "source": [
    "# Main Channel\n",
    "gs.mapcalc (\"$r_mainchannel = if($r_hack==1,1,null())\",\n",
    "            r_hack = 'r_hack', # input\n",
    "            r_mainchannel = 'r_mainchannel', # output\n",
    "            quiet=True,\n",
    "            overwrite=True) \n",
    "\n",
    "gs.run_command(\"r.thin\", \n",
    "               input = 'r_mainchannel',\n",
    "               output = 'r_mainchannel'+'_thin',\n",
    "               quiet=True,\n",
    "               overwrite=True)\n",
    "\n",
    "gs.run_command('r.to.vect',\n",
    "               input='r_mainchannel'+'_thin',\n",
    "               output='v_mainchannel',\n",
    "               type='line',\n",
    "               #verbose=True,\n",
    "               quiet=True,\n",
    "               overwrite=True)\n",
    "gs.message(\"Main Channel is extracted.\")"
   ]
  },
  {
   "cell_type": "markdown",
   "metadata": {},
   "source": [
    "### P: Main Channel Length (!= Basin Length)"
   ]
  },
  {
   "cell_type": "code",
   "execution_count": 129,
   "metadata": {},
   "outputs": [
    {
     "name": "stdout",
     "output_type": "stream",
     "text": [
      "The Main Channel Length is 75.032720702 km.\n"
     ]
    }
   ],
   "source": [
    "# Basin Length\n",
    "param_mainchannel = gs.read_command('v.what',\n",
    "                                    map = 'v_mainchannel',\n",
    "                                    coordinates='%s,%s' % (east_o, north_o),\n",
    "                                    distance=5)\n",
    "MCL = float(param_mainchannel.split('\\n')[7].split()[1])/1000 # km\n",
    "\n",
    "print(\"The Main Channel Length is\", MCL, \"km.\")"
   ]
  },
  {
   "cell_type": "markdown",
   "metadata": {},
   "source": [
    "### P: Elongation Ratio"
   ]
  },
  {
   "cell_type": "code",
   "execution_count": 30,
   "metadata": {},
   "outputs": [
    {
     "name": "stdout",
     "output_type": "stream",
     "text": [
      "The elongation ratio is  0.24415734740038567\n"
     ]
    }
   ],
   "source": [
    "# Elongation Ratio\n",
    "elon_ratio = (2*math.sqrt(basin_area/math.pi))/MCL\n",
    "\n",
    "print(\"The elongation ratio is \", elon_ratio)"
   ]
  },
  {
   "cell_type": "markdown",
   "metadata": {},
   "source": [
    "### P: Form Factor"
   ]
  },
  {
   "cell_type": "code",
   "execution_count": 31,
   "metadata": {},
   "outputs": [
    {
     "name": "stdout",
     "output_type": "stream",
     "text": [
      "The Form Factor is  0.046819791716406545\n"
     ]
    }
   ],
   "source": [
    "# Form Factor\n",
    "form_factor = basin_area/(MCL**2)\n",
    "print(\"The Form Factor is \", form_factor)"
   ]
  },
  {
   "cell_type": "markdown",
   "metadata": {},
   "source": [
    "### P: Relative Relief"
   ]
  },
  {
   "cell_type": "code",
   "execution_count": 32,
   "metadata": {},
   "outputs": [
    {
     "name": "stdout",
     "output_type": "stream",
     "text": [
      "The max Altitude is  165.0 m; \n",
      " The min Altitude is  1532.0 m.\n",
      "The relative Relief is  1367.0 m.\n"
     ]
    }
   ],
   "source": [
    "# Relative Relief (Hmax - Hmin)\n",
    "height_attr = gs.read_command('r.info', \n",
    "                flags='r',\n",
    "                map='r_elevation')\n",
    "height_min = float(height_attr.strip().split('\\n')[0].split('=')[-1])\n",
    "height_max = float(height_attr.strip().split('\\n')[1].split('=')[-1])\n",
    "print(\"The max Altitude is \", height_min, \"m; \\n\", \n",
    "      \"The min Altitude is \", height_max, \"m.\")\n",
    "\n",
    "relative_relief = height_max - height_min\n",
    "print(\"The relative Relief is \", relative_relief, \"m.\") # meter"
   ]
  },
  {
   "cell_type": "markdown",
   "metadata": {},
   "source": [
    "### P: Relief Ratio"
   ]
  },
  {
   "cell_type": "code",
   "execution_count": 34,
   "metadata": {},
   "outputs": [
    {
     "name": "stdout",
     "output_type": "stream",
     "text": [
      "The Relief Ratio is  0.018218718276645972\n"
     ]
    }
   ],
   "source": [
    "# Relief Ratio\n",
    "relief_ratio = (relative_relief/1000)/MCL\n",
    "print(\"The Relief Ratio is \", relief_ratio)"
   ]
  },
  {
   "cell_type": "markdown",
   "metadata": {},
   "source": [
    "### P: Dissection Index"
   ]
  },
  {
   "cell_type": "code",
   "execution_count": 35,
   "metadata": {},
   "outputs": [
    {
     "name": "stdout",
     "output_type": "stream",
     "text": [
      "The Dissection Index is  0.8922976501305483\n"
     ]
    }
   ],
   "source": [
    "# Dissection Index\n",
    "dissection_index = relative_relief/height_max\n",
    "print(\"The Dissection Index is \", dissection_index)"
   ]
  },
  {
   "cell_type": "markdown",
   "metadata": {},
   "source": [
    "### P: Hypsometric Integral"
   ]
  },
  {
   "cell_type": "code",
   "execution_count": 36,
   "metadata": {},
   "outputs": [
    {
     "name": "stdout",
     "output_type": "stream",
     "text": [
      "Mean Elevation is  455.9324 m\n"
     ]
    }
   ],
   "source": [
    "# Mean Elevation\n",
    "gs.run_command(\"r.stats.zonal\",\n",
    "               base = 'r_basin',\n",
    "               cover = 'r_elevation',\n",
    "               method = 'average',\n",
    "               output = 'r_height_average',\n",
    "               quiet = True,\n",
    "               overwrite = True)\n",
    "mean_elev = float(gs.read_command('r.info',\n",
    "                                  flags = 'r',\n",
    "                                  map = 'r_height_average').split('\\n')[0].split('=')[1])\n",
    "print(\"Mean Elevation is \", mean_elev, \"m\")"
   ]
  },
  {
   "cell_type": "code",
   "execution_count": 37,
   "metadata": {},
   "outputs": [
    {
     "name": "stdout",
     "output_type": "stream",
     "text": [
      "Hypsometric Integral is  0.2128254572055596\n"
     ]
    }
   ],
   "source": [
    "# Hypsometric Integral\n",
    "hypsom = (mean_elev-height_min)/relative_relief\n",
    "print(\"Hypsometric Integral is \", hypsom)"
   ]
  },
  {
   "cell_type": "markdown",
   "metadata": {},
   "source": [
    "### 6. Slope & Aspect"
   ]
  },
  {
   "cell_type": "code",
   "execution_count": 38,
   "metadata": {},
   "outputs": [
    {
     "name": "stderr",
     "output_type": "stream",
     "text": [
      "Slope and Aspect maps done.\n"
     ]
    }
   ],
   "source": [
    "# Creation of Slope and Aspect maps\n",
    "gs.run_command('r.slope.aspect',\n",
    "               elevation='r_elevation',\n",
    "               slope='r_slope',\n",
    "               aspect = 'r_aspect',\n",
    "               quiet=True,\n",
    "               overwrite=True)\n",
    "gs.message(\"Slope and Aspect maps done.\")"
   ]
  },
  {
   "cell_type": "markdown",
   "metadata": {},
   "source": [
    "### P: Average Basin Slope"
   ]
  },
  {
   "cell_type": "code",
   "execution_count": 39,
   "metadata": {},
   "outputs": [
    {
     "name": "stdout",
     "output_type": "stream",
     "text": [
      "Average Basin Slope is  11.38\n"
     ]
    }
   ],
   "source": [
    "slope_baricenter = gs.read_command(\"r.volume\", \n",
    "                                   input = 'r_slope',\n",
    "                                   clump = 'r_basin',\n",
    "                                   quiet = True).split()\n",
    "\n",
    "basin_slope = float(slope_baricenter[30])\n",
    "print(\"Average Basin Slope is \", basin_slope)"
   ]
  },
  {
   "cell_type": "markdown",
   "metadata": {},
   "source": [
    "### 7. Topological Diameter"
   ]
  },
  {
   "cell_type": "code",
   "execution_count": 40,
   "metadata": {},
   "outputs": [
    {
     "name": "stderr",
     "output_type": "stream",
     "text": [
      "WARNING: Vector map <v_mainchannel_dim> already exists and will be\n",
      "         overwritten\n"
     ]
    },
    {
     "data": {
      "text/plain": [
       "0"
      ]
     },
     "execution_count": 40,
     "metadata": {},
     "output_type": "execute_result"
    }
   ],
   "source": [
    "gs.mapcalc(\"$r_mainchannel_dim = -($r_mainchannel - $r_shreve) + 1\",\n",
    "           r_mainchannel_dim = 'r_mainchannel_dim',\n",
    "           r_shreve = 'r_shreve',\n",
    "           r_mainchannel = 'r_mainchannel',\n",
    "           quiet = True,\n",
    "           overwrite = True)\n",
    "\n",
    "gs.run_command('r.thin',\n",
    "               input = 'r_mainchannel_dim',\n",
    "               output = 'r_mainchannel_dim_thin',\n",
    "               quiet = True,\n",
    "               overwrite = True)\n",
    "\n",
    "gs.run_command('r.to.vect',\n",
    "               input = 'r_mainchannel_dim_thin',\n",
    "               output = 'v_mainchannel_dim',\n",
    "               type = 'line',\n",
    "               flags = 'v',\n",
    "               quiet = True,\n",
    "               overwrite = True)"
   ]
  },
  {
   "cell_type": "markdown",
   "metadata": {},
   "source": [
    "### P: Average Mainchannel Slope"
   ]
  },
  {
   "cell_type": "code",
   "execution_count": 41,
   "metadata": {},
   "outputs": [
    {
     "name": "stderr",
     "output_type": "stream",
     "text": [
      "WARNING: Vector map <v_mainchannel_dim_point> already exists and will be\n",
      "         overwritten\n"
     ]
    },
    {
     "name": "stdout",
     "output_type": "stream",
     "text": [
      "Mean slope of mainchannel is 1.8217512567769045 %\n"
     ]
    }
   ],
   "source": [
    "gs.run_command('v.to.points',\n",
    "               input = 'v_mainchannel_dim',\n",
    "               output = 'v_mainchannel_dim_point',\n",
    "               type = 'line',\n",
    "               quiet = True,\n",
    "               overwrite = True)\n",
    "\n",
    "vertex = gs.read_command('v.out.ascii',\n",
    "                         input = 'v_mainchannel_dim_point',\n",
    "                         quiet = True,\n",
    "                         overwrite = True).strip().split('\\n')\n",
    "\n",
    "nodi = np.zeros((len(vertex), 4), float)\n",
    "pendenze = []\n",
    "\n",
    "for i in range(len(vertex)):\n",
    "    x, y = float(vertex[i].split('|')[0]), float(vertex[i].split('|')[1])\n",
    "    vertice1 = gs.read_command('r.what',\n",
    "                               map = 'r_elevation',\n",
    "                               coordinates = '%s,%s' % (x,y))\n",
    "    vertice = vertice1.replace('\\n', '').replace('||', '|').split('|')\n",
    "    nodi[i, 0], nodi[i, 1], nodi[i, 2] = float(vertice[0]), float(vertice[1]), float(vertice[2])\n",
    "    \n",
    "for i in range(0, len(vertex)-1, 2):\n",
    "    dist = math.sqrt(math.fabs((nodi[i, 0] - nodi[i+1, 0]))**2 + math.fabs((nodi[i, 1] - nodi[i+1, 1]))**2)\n",
    "    deltaz = math.fabs(nodi[i, 2] - nodi[i+1, 2])\n",
    "    \n",
    "    # Control to prevent float division by zero (dist=0)\n",
    "    try:\n",
    "        pendenza = deltaz / dist\n",
    "        pendenze.append(pendenza)\n",
    "        mainchannel_slope = float(sum(pendenze) / len(pendenze)*100)\n",
    "    except:\n",
    "        pass\n",
    "\n",
    "print(\"Mean slope of mainchannel is\", mainchannel_slope, \"%\")"
   ]
  },
  {
   "cell_type": "markdown",
   "metadata": {},
   "source": [
    "### P: Channel Gradient"
   ]
  },
  {
   "cell_type": "code",
   "execution_count": 42,
   "metadata": {},
   "outputs": [
    {
     "name": "stdout",
     "output_type": "stream",
     "text": [
      "Total stream length is  711.1799 km \n",
      " Bifurcation Ratio is  3.4345\n"
     ]
    }
   ],
   "source": [
    "stream_stats = gs.read_command('r.stream.stats',\n",
    "                               stream_rast = 'r_strahler', # NOT Horton???\n",
    "                               direction = 'r_drainage_e',\n",
    "                               elevation = 'r_elevation',\n",
    "                               quiet = True)\n",
    "\n",
    "stream_stats_summary = stream_stats.split('\\n')[4].split('|')\n",
    "stream_stats_mom = stream_stats.split('\\n')[8].split('|')\n",
    "\n",
    "Len_streams = float(stream_stats_summary[2])\n",
    "Bif_ratio = float(stream_stats_mom[0])\n",
    "\n",
    "print(\"Total stream length is \", Len_streams, \"km \\n\",\n",
    "      \"Bifurcation Ratio is \", Bif_ratio)"
   ]
  },
  {
   "cell_type": "code",
   "execution_count": 43,
   "metadata": {},
   "outputs": [
    {
     "name": "stdout",
     "output_type": "stream",
     "text": [
      "Channel Gradient is 2984.702579845911\n"
     ]
    }
   ],
   "source": [
    "channel_gradient = relative_relief / ((math.pi/2) * ((Len_streams/(Len_streams-1)) / Bif_ratio))\n",
    "\n",
    "print(\"Channel Gradient is\", channel_gradient)"
   ]
  },
  {
   "cell_type": "markdown",
   "metadata": {},
   "source": [
    "### P: Slope Ratio"
   ]
  },
  {
   "cell_type": "code",
   "execution_count": 44,
   "metadata": {},
   "outputs": [
    {
     "name": "stdout",
     "output_type": "stream",
     "text": [
      "Slope Ratio is  0.1600835902264415 or 3.293\n"
     ]
    }
   ],
   "source": [
    "slope_ratio = mainchannel_slope / basin_slope\n",
    "\n",
    "Slope_ratio = float(stream_stats_mom[3])\n",
    "\n",
    "print(\"Slope Ratio is \", slope_ratio, \"or\", Slope_ratio)"
   ]
  },
  {
   "cell_type": "markdown",
   "metadata": {},
   "source": [
    "## Write Indices as Attributes into Basin Shapefile"
   ]
  },
  {
   "cell_type": "code",
   "execution_count": 124,
   "metadata": {},
   "outputs": [
    {
     "data": {
      "text/html": [
       "<div>\n",
       "<style scoped>\n",
       "    .dataframe tbody tr th:only-of-type {\n",
       "        vertical-align: middle;\n",
       "    }\n",
       "\n",
       "    .dataframe tbody tr th {\n",
       "        vertical-align: top;\n",
       "    }\n",
       "\n",
       "    .dataframe thead th {\n",
       "        text-align: right;\n",
       "    }\n",
       "</style>\n",
       "<table border=\"1\" class=\"dataframe\">\n",
       "  <thead>\n",
       "    <tr style=\"text-align: right;\">\n",
       "      <th></th>\n",
       "      <th>HYBAS_ID</th>\n",
       "      <th>NEXT_DOWN</th>\n",
       "      <th>NEXT_SINK</th>\n",
       "      <th>MAIN_BAS</th>\n",
       "      <th>DIST_SINK</th>\n",
       "      <th>DIST_MAIN</th>\n",
       "      <th>SUB_AREA</th>\n",
       "      <th>UP_AREA</th>\n",
       "      <th>PFAF_ID</th>\n",
       "      <th>ENDO</th>\n",
       "      <th>COAST</th>\n",
       "      <th>ORDER</th>\n",
       "      <th>SORT</th>\n",
       "      <th>geometry</th>\n",
       "    </tr>\n",
       "  </thead>\n",
       "  <tbody>\n",
       "    <tr>\n",
       "      <th>0</th>\n",
       "      <td>4050060240</td>\n",
       "      <td>4051108500</td>\n",
       "      <td>4050060240</td>\n",
       "      <td>4050017020</td>\n",
       "      <td>0.0</td>\n",
       "      <td>917.6</td>\n",
       "      <td>1227.3</td>\n",
       "      <td>1227.3</td>\n",
       "      <td>44270</td>\n",
       "      <td>2</td>\n",
       "      <td>0</td>\n",
       "      <td>2</td>\n",
       "      <td>710</td>\n",
       "      <td>MULTIPOLYGON (((487622.092 1946396.778, 486480...</td>\n",
       "    </tr>\n",
       "  </tbody>\n",
       "</table>\n",
       "</div>"
      ],
      "text/plain": [
       "     HYBAS_ID  ...                                           geometry\n",
       "0  4050060240  ...  MULTIPOLYGON (((487622.092 1946396.778, 486480...\n",
       "\n",
       "[1 rows x 14 columns]"
      ]
     },
     "execution_count": 124,
     "metadata": {},
     "output_type": "execute_result"
    }
   ],
   "source": [
    "basin_prj[0:]"
   ]
  },
  {
   "cell_type": "code",
   "execution_count": 138,
   "metadata": {},
   "outputs": [],
   "source": [
    "basin_pop = basin_prj[0:].assign(perimeter_km = basin_perimeter,\n",
    "                                 area_km = basin_area,\n",
    "                                 outlet_east = east_o,\n",
    "                                 outlet_north = north_o,\n",
    "                                 \n",
    "                                 elevation_max_m = height_max,\n",
    "                                 elevation_min_m = height_min,\n",
    "                                 relative_relief_m = relative_relief,\n",
    "                                 elevation_mean_m = mean_elev,\n",
    "                                 \n",
    "                                 mainchannel_length_km = MCL,\n",
    "                                 total_stream_length_km = Len_streams,\n",
    "                                 \n",
    "                                 avg_basin_slope = basin_slope,\n",
    "                                 avg_mainchannel_slope_percent = mainchannel_slope,\n",
    "                                 \n",
    "                                 circularity_ratio = circularity_ratio,\n",
    "                                 elongation_ratio = elon_ratio,\n",
    "                                 form_factor = form_factor,\n",
    "                                 relief_ratio = relief_ratio,\n",
    "                                 dissection_index = dissection_index,\n",
    "                                 hypsometric_integral = hypsom,\n",
    "                                 bifurcation_ratio = Bif_ratio,\n",
    "                                 channel_gradient = channel_gradient,\n",
    "                                 slope_ratio = slope_ratio\n",
    "                                 )"
   ]
  },
  {
   "cell_type": "code",
   "execution_count": 139,
   "metadata": {},
   "outputs": [
    {
     "data": {
      "text/html": [
       "<div>\n",
       "<style scoped>\n",
       "    .dataframe tbody tr th:only-of-type {\n",
       "        vertical-align: middle;\n",
       "    }\n",
       "\n",
       "    .dataframe tbody tr th {\n",
       "        vertical-align: top;\n",
       "    }\n",
       "\n",
       "    .dataframe thead th {\n",
       "        text-align: right;\n",
       "    }\n",
       "</style>\n",
       "<table border=\"1\" class=\"dataframe\">\n",
       "  <thead>\n",
       "    <tr style=\"text-align: right;\">\n",
       "      <th></th>\n",
       "      <th>HYBAS_ID</th>\n",
       "      <th>NEXT_DOWN</th>\n",
       "      <th>NEXT_SINK</th>\n",
       "      <th>MAIN_BAS</th>\n",
       "      <th>DIST_SINK</th>\n",
       "      <th>DIST_MAIN</th>\n",
       "      <th>SUB_AREA</th>\n",
       "      <th>UP_AREA</th>\n",
       "      <th>PFAF_ID</th>\n",
       "      <th>ENDO</th>\n",
       "      <th>COAST</th>\n",
       "      <th>ORDER</th>\n",
       "      <th>SORT</th>\n",
       "      <th>geometry</th>\n",
       "      <th>perimeter_km</th>\n",
       "      <th>area_km</th>\n",
       "      <th>outlet_east</th>\n",
       "      <th>outlet_north</th>\n",
       "      <th>elevation_max_m</th>\n",
       "      <th>elevation_min_m</th>\n",
       "      <th>relative_relief_m</th>\n",
       "      <th>elevation_mean_m</th>\n",
       "      <th>mainchannel_length_km</th>\n",
       "      <th>total_stream_length_km</th>\n",
       "      <th>avg_basin_slope</th>\n",
       "      <th>avg_mainchannel_slope_percent</th>\n",
       "      <th>circularity_ratio</th>\n",
       "      <th>elongation_ratio</th>\n",
       "      <th>form_factor</th>\n",
       "      <th>relief_ratio</th>\n",
       "      <th>dissection_index</th>\n",
       "      <th>hypsometric_integral</th>\n",
       "      <th>bifurcation_ratio</th>\n",
       "      <th>channel_gradient</th>\n",
       "      <th>slope_ratio</th>\n",
       "    </tr>\n",
       "  </thead>\n",
       "  <tbody>\n",
       "    <tr>\n",
       "      <th>0</th>\n",
       "      <td>4050060240</td>\n",
       "      <td>4051108500</td>\n",
       "      <td>4050060240</td>\n",
       "      <td>4050017020</td>\n",
       "      <td>0.0</td>\n",
       "      <td>917.6</td>\n",
       "      <td>1227.3</td>\n",
       "      <td>1227.3</td>\n",
       "      <td>44270</td>\n",
       "      <td>2</td>\n",
       "      <td>0</td>\n",
       "      <td>2</td>\n",
       "      <td>710</td>\n",
       "      <td>MULTIPOLYGON (((487622.092 1946396.778, 486480...</td>\n",
       "      <td>111.389201</td>\n",
       "      <td>263.591175</td>\n",
       "      <td>490282.15625</td>\n",
       "      <td>1966838</td>\n",
       "      <td>1532.0</td>\n",
       "      <td>165.0</td>\n",
       "      <td>1367.0</td>\n",
       "      <td>455.9324</td>\n",
       "      <td>75.032721</td>\n",
       "      <td>711.1799</td>\n",
       "      <td>11.38</td>\n",
       "      <td>1.821751</td>\n",
       "      <td>0.266965</td>\n",
       "      <td>0.244157</td>\n",
       "      <td>0.04682</td>\n",
       "      <td>0.018219</td>\n",
       "      <td>0.892298</td>\n",
       "      <td>0.212825</td>\n",
       "      <td>3.4345</td>\n",
       "      <td>2984.70258</td>\n",
       "      <td>0.160084</td>\n",
       "    </tr>\n",
       "  </tbody>\n",
       "</table>\n",
       "</div>"
      ],
      "text/plain": [
       "     HYBAS_ID   NEXT_DOWN  ...  channel_gradient  slope_ratio\n",
       "0  4050060240  4051108500  ...        2984.70258     0.160084\n",
       "\n",
       "[1 rows x 35 columns]"
      ]
     },
     "execution_count": 139,
     "metadata": {},
     "output_type": "execute_result"
    }
   ],
   "source": [
    "basin_pop[0:]"
   ]
  },
  {
   "cell_type": "code",
   "execution_count": 140,
   "metadata": {},
   "outputs": [],
   "source": [
    "# Output\n",
    "path_basin_index = os.path.join(outpath, basin_input.split(\".\")[0]+\"_index\")\n",
    "basin_pop.to_file(path_basin_index)"
   ]
  }
 ],
 "metadata": {
  "kernelspec": {
   "display_name": "Python 3 (Spyder)",
   "language": "python3",
   "name": "python3"
  },
  "language_info": {
   "codemirror_mode": {
    "name": "ipython",
    "version": 3
   },
   "file_extension": ".py",
   "mimetype": "text/x-python",
   "name": "python",
   "nbconvert_exporter": "python",
   "pygments_lexer": "ipython3",
   "version": "3.7.8"
  }
 },
 "nbformat": 4,
 "nbformat_minor": 4
}
