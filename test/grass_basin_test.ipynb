{
 "cells": [
  {
   "cell_type": "markdown",
   "metadata": {},
   "source": [
    "## Calculate Some Morphological Parameters of the Basin using GRASS GIS"
   ]
  },
  {
   "cell_type": "code",
   "execution_count": 1,
   "metadata": {},
   "outputs": [],
   "source": [
    "import os\n",
    "import sys\n",
    "import subprocess\n",
    "import shutil\n",
    "import binascii\n",
    "import tempfile\n",
    "\n",
    "from grass_session import Session\n",
    "import grass.script as gs\n",
    "import grass.script.setup as gsetup\n",
    "\n",
    "import numpy as np\n",
    "import matplotlib\n",
    "import wx\n",
    "import math\n",
    "import csv"
   ]
  },
  {
   "cell_type": "code",
   "execution_count": 2,
   "metadata": {},
   "outputs": [
    {
     "data": {
      "text/plain": [
       "'/home/shirobakaidou/eagle/MET_Spatial_Python/grass'"
      ]
     },
     "execution_count": 2,
     "metadata": {},
     "output_type": "execute_result"
    }
   ],
   "source": [
    "os.chdir('/home/shirobakaidou/eagle/MET_Spatial_Python/grass')\n",
    "os.getcwd()"
   ]
  },
  {
   "cell_type": "code",
   "execution_count": 3,
   "metadata": {},
   "outputs": [
    {
     "name": "stdout",
     "output_type": "stream",
     "text": [
      "{'GISDBASE': '/home/shirobakaidou/eagle/MET_Spatial_Python/grass', 'LOCATION_NAME': 'mylocation', 'MAPSET': 'PERMANENT'}\n"
     ]
    }
   ],
   "source": [
    "# Define GRASS Database\n",
    "dbase = os.getcwd()\n",
    "location = 'mylocation'\n",
    "\n",
    "# Set GISBASE environment variable\n",
    "gisbase = '/usr/lib/grass78'\n",
    "os.environ['GISBASE'] = str(gisbase)\n",
    "\n",
    "# Initialize\n",
    "gsetup.init(os.environ['GISBASE'], dbase, location, 'PERMANENT')\n",
    "\n",
    "print(gs.gisenv())"
   ]
  },
  {
   "cell_type": "code",
   "execution_count": 4,
   "metadata": {},
   "outputs": [
    {
     "name": "stderr",
     "output_type": "stream",
     "text": [
      "WARNING: Location <mylocation> already exists. Operation canceled.\n"
     ]
    }
   ],
   "source": [
    "# Create Location\n",
    "gs.create_location(dbase, location)"
   ]
  },
  {
   "cell_type": "code",
   "execution_count": 20,
   "metadata": {},
   "outputs": [
    {
     "name": "stderr",
     "output_type": "stream",
     "text": [
      "Location <rbasin_reproduce> created\n",
      "You can switch to the new location by\n",
      "`g.mapset mapset=PERMANENT location=rbasin_reproduce`\n"
     ]
    },
    {
     "data": {
      "text/plain": [
       "0"
      ]
     },
     "execution_count": 20,
     "metadata": {},
     "output_type": "execute_result"
    }
   ],
   "source": [
    "# Create a new location, using a georeferenced file\n",
    "#gs.run_command('g.proj', flags=\"c\",\n",
    "#               georef=\"/home/shirobakaidou/eagle/MET_Spatial_Python/data/hydroDEM_clip.tif\",\n",
    "#               location=\"rbasin_reproduce\")"
   ]
  },
  {
   "cell_type": "code",
   "execution_count": 5,
   "metadata": {},
   "outputs": [
    {
     "name": "stderr",
     "output_type": "stream",
     "text": [
      "Mapset switched. Your shell continues to use the history for the old mapset\n",
      "You can switch the history by commands:\n",
      "history -w; history -r\n",
      "/home/shirobakaidou/eagle/MET_Spatial_Python/grass/rbasin_reproduce/PERMANENT/.bash_history;\n",
      "HISTFILE=/home/shirobakaidou/eagle/MET_Spatial_Python/grass/rbasin_reproduce/PERMANENT/.bash_history\n"
     ]
    },
    {
     "data": {
      "text/plain": [
       "0"
      ]
     },
     "execution_count": 5,
     "metadata": {},
     "output_type": "execute_result"
    }
   ],
   "source": [
    "# Switch to the location_vietnam, mapset \"PERMANENT\"\n",
    "gs.run_command('g.mapset', \n",
    "               #location=\"mylocation\",\n",
    "               location=\"rbasin_reproduce\",\n",
    "               mapset=\"PERMANENT\")"
   ]
  },
  {
   "cell_type": "code",
   "execution_count": null,
   "metadata": {},
   "outputs": [],
   "source": [
    "# Install hydrology related GRASS Addons\n",
    "\n",
    "#gs.run_command('g.extension', extension='r.basin', operation='add')\n",
    "#gs.run_command('g.extension', extension='r.hypso', operation='add')\n",
    "#gs.run_command('g.extension', extension='r.stream.basins', operation='add')\n",
    "#gs.run_command('g.extension', extension='r.stream.distance', operation='add')\n",
    "#gs.run_command('g.extension', extension='r.stream.order', operation='add')\n",
    "#gs.run_command('g.extension', extension='r.stream.snap', operation='add')\n",
    "#gs.run_command('g.extension', extension='r.stream.stats', operation='add')\n",
    "#gs.run_command('g.extension', extension='r.width.funct', operation='add')\n",
    "#gs.run_command('g.extension', extension='r.stream.channel', operation='add')\n",
    "#gs.run_command('g.extension', extension='r.stream.segment', operation='add')\n",
    "#gs.run_command('g.extension', extension='r.stream.slope', operation='add')"
   ]
  },
  {
   "cell_type": "code",
   "execution_count": 6,
   "metadata": {},
   "outputs": [
    {
     "name": "stdout",
     "output_type": "stream",
     "text": [
      "-PROJ_INFO-------------------------------------------------\n",
      "name       : WGS 84 / UTM zone 48N\n",
      "datum      : wgs84\n",
      "ellps      : wgs84\n",
      "proj       : utm\n",
      "zone       : 48\n",
      "no_defs    : defined\n",
      "-PROJ_EPSG-------------------------------------------------\n",
      "epsg       : 32648\n",
      "-PROJ_UNITS------------------------------------------------\n",
      "unit       : meter\n",
      "units      : meters\n",
      "meters     : 1\n"
     ]
    },
    {
     "data": {
      "text/plain": [
       "0"
      ]
     },
     "execution_count": 6,
     "metadata": {},
     "output_type": "execute_result"
    }
   ],
   "source": [
    "# Display CRS Info\n",
    "gs.run_command('g.proj', flags=\"p\")"
   ]
  },
  {
   "cell_type": "code",
   "execution_count": 41,
   "metadata": {},
   "outputs": [
    {
     "name": "stderr",
     "output_type": "stream",
     "text": [
      "WARNING: Raster map <r_elevation> already exists and will be overwritten\n"
     ]
    },
    {
     "data": {
      "text/plain": [
       "0"
      ]
     },
     "execution_count": 41,
     "metadata": {},
     "output_type": "execute_result"
    }
   ],
   "source": [
    "# Read GeoTiFF as GRASS Raster (Import Raster)\n",
    "gs.run_command('r.in.gdal', \n",
    "               #flags='e', # update the default region\n",
    "               input='/home/shirobakaidou/eagle/MET_Spatial_Python/data/hydroDEM_clip.tif',\n",
    "               output='r_elevation',\n",
    "               quiet=True,\n",
    "               overwrite=True)"
   ]
  },
  {
   "cell_type": "code",
   "execution_count": 8,
   "metadata": {},
   "outputs": [
    {
     "name": "stdout",
     "output_type": "stream",
     "text": [
      "projection: 1 (UTM)\n",
      "zone:       48\n",
      "datum:      wgs84\n",
      "ellipsoid:  wgs84\n",
      "north:      1998522.28534274\n",
      "south:      1937087.40340192\n",
      "west:       464222.85466713\n",
      "east:       513265.29261131\n",
      "nsres:      87.88967374\n",
      "ewres:      87.88967374\n",
      "rows:       699\n",
      "cols:       558\n",
      "cells:      390042\n"
     ]
    },
    {
     "data": {
      "text/plain": [
       "0"
      ]
     },
     "execution_count": 8,
     "metadata": {},
     "output_type": "execute_result"
    }
   ],
   "source": [
    "# Set Region\n",
    "gs.run_command('g.region', \n",
    "               flags=\"pa\",\n",
    "               raster='r_elevation')"
   ]
  },
  {
   "cell_type": "code",
   "execution_count": 9,
   "metadata": {},
   "outputs": [
    {
     "name": "stderr",
     "output_type": "stream",
     "text": [
      "threshold : 129.45662942175616\n"
     ]
    }
   ],
   "source": [
    "# Define Threshold:\n",
    "# source: https://github.com/OSGeo/grass-addons/blob/master/grass7/raster/r.basin/r.basin.py\n",
    "resolution = gs.region()['nsres']\n",
    "th = 1000000 / (resolution**2)\n",
    "gs.message( \"threshold : %s\" % th )"
   ]
  },
  {
   "cell_type": "code",
   "execution_count": 10,
   "metadata": {},
   "outputs": [],
   "source": [
    "# Define Output Location\n",
    "outpath = os.path.join(os.path.split(os.getcwd())[0], 'output', 'location_reproduce_rbasin')"
   ]
  },
  {
   "cell_type": "code",
   "execution_count": 49,
   "metadata": {},
   "outputs": [
    {
     "name": "stderr",
     "output_type": "stream",
     "text": [
      "Flow Direction map and Flow Accumulation map done.\n"
     ]
    }
   ],
   "source": [
    "# Watershed SFD (single flow direction)\n",
    "gs.run_command('r.watershed',\n",
    "               flags='ams',\n",
    "               elevation='r_elevation',\n",
    "               accumulation='r_accumulation', # output accumulation\n",
    "               drainage='r_drainage', # output flow direction\n",
    "               convergence=5,\n",
    "               quiet=True,\n",
    "               overwrite=True)\n",
    "gs.message(\"Flow Direction map and Flow Accumulation map done.\")"
   ]
  },
  {
   "cell_type": "code",
   "execution_count": 48,
   "metadata": {},
   "outputs": [
    {
     "name": "stderr",
     "output_type": "stream",
     "text": [
      "Stream Extraction done.\n"
     ]
    }
   ],
   "source": [
    "# Stream Extraction\n",
    "gs.run_command('r.stream.extract', \n",
    "               elevation = 'r_elevation',\n",
    "               accumulation = 'r_accumulation',\n",
    "               threshold = th,\n",
    "               #d8cut =  1000000000,\n",
    "               mexp = 0,\n",
    "               stream_rast = 'r_stream_e', # output unique stream ids\n",
    "               direction = 'r_drainage_e',\n",
    "               quiet=True,\n",
    "               overwrite=True)\n",
    "gs.message(\"Stream Extraction done.\")"
   ]
  },
  {
   "cell_type": "code",
   "execution_count": 81,
   "metadata": {},
   "outputs": [
    {
     "name": "stderr",
     "output_type": "stream",
     "text": [
      "WARNING: Vector map <v_outlet> already exists and will be overwritten\n",
      "WARNING: Vector map <v_outlet_snap> already exists and will be overwritten\n",
      "Delineation of basin done\n"
     ]
    }
   ],
   "source": [
    "# Delineation of basin: Create outlet\n",
    "# Create outlet\n",
    "gs.write_command('v.in.ascii',\n",
    "                 input='-',\n",
    "                 output='v_outlet',\n",
    "                 sep=\",\",\n",
    "                 stdin=\"%s,9999\" % (\"490282.15625,1966838\"), # <modify coordinates>\n",
    "                 quiet=True,\n",
    "                 overwrite=True)\n",
    "# The point is snapped to the nearest point which lies on the streamline\n",
    "gs.run_command('r.stream.snap',\n",
    "               input='v_outlet', \n",
    "               stream_rast='r_stream_e', # Input stream network\n",
    "               output='v_outlet_snap', # output vector points map\n",
    "               quiet=True,\n",
    "               overwrite=True)\n",
    "gs.run_command('v.to.rast',\n",
    "               input='v_outlet_snap',\n",
    "               output='r_outlet',\n",
    "               use='cat',\n",
    "               type='point',\n",
    "               layer=1,\n",
    "               value=1,\n",
    "               quiet=True,\n",
    "               overwrite=True)\n",
    "# Delineates basins\n",
    "gs.run_command('r.stream.basins',\n",
    "               direction='r_drainage_e', # Input flow direction\n",
    "               points='v_outlet_snap', # Input vector points\n",
    "               basins='r_basin', # Output basin\n",
    "               quiet=True,\n",
    "               overwrite=True)\n",
    "gs.message(\"Delineation of basin done\")"
   ]
  },
  {
   "cell_type": "code",
   "execution_count": 50,
   "metadata": {},
   "outputs": [
    {
     "name": "stderr",
     "output_type": "stream",
     "text": [
      "Slope and Aspect maps done.\n"
     ]
    }
   ],
   "source": [
    "# Creation of Slope and Aspect maps\n",
    "gs.run_command('r.slope.aspect',\n",
    "               elevation='r_elevation',\n",
    "               slope='r_slope',\n",
    "               aspect = 'r_aspect',\n",
    "               quiet=True,\n",
    "               overwrite=True)\n",
    "gs.message(\"Slope and Aspect maps done.\")"
   ]
  },
  {
   "cell_type": "code",
   "execution_count": 51,
   "metadata": {},
   "outputs": [
    {
     "name": "stderr",
     "output_type": "stream",
     "text": [
      "WARNING: Vector map <v_basin> already exists and will be overwritten\n",
      "Creation of Basin mask done.\n"
     ]
    }
   ],
   "source": [
    "# Create Basin Mask (Vector)\n",
    "gs.run_command('r.to.vect',\n",
    "               input='r_basin',\n",
    "               output='v_basin',\n",
    "               type='area',\n",
    "               flags='sv',\n",
    "               quiet=True,\n",
    "               overwrite=True)\n",
    "gs.message(\"Creation of Basin mask done.\")"
   ]
  },
  {
   "cell_type": "code",
   "execution_count": 54,
   "metadata": {},
   "outputs": [
    {
     "name": "stderr",
     "output_type": "stream",
     "text": [
      "ERROR: Column <area> is already in the table. Skipping.\n",
      "ERROR: Column <perimeter> is already in the table. Skipping.\n",
      "Column 'Area' and Column 'Perimeter' are added\n",
      "to the attribute table of basin\n"
     ]
    }
   ],
   "source": [
    "# Add two columns to the table 'basin': Area and Perimeter\n",
    "gs.run_command('v.db.addcolumn',\n",
    "               map='v_basin',\n",
    "               columns='area double precision') # name & type\n",
    "gs.run_command('v.db.addcolumn',\n",
    "               map='v_basin',\n",
    "               columns='perimeter double precision')\n",
    "gs.message(\"Column 'Area' and Column 'Perimeter' are added \\n to the attribute table of basin\")"
   ]
  },
  {
   "cell_type": "code",
   "execution_count": 56,
   "metadata": {},
   "outputs": [
    {
     "name": "stderr",
     "output_type": "stream",
     "text": [
      "WARNING: Values in column <perimeter> will be overwritten\n",
      "WARNING: Values in column <area> will be overwritten\n",
      "Column 'Area' and 'Perimeter' are filled with value\n"
     ]
    }
   ],
   "source": [
    "# Populate Perimeter Column\n",
    "gs.run_command('v.to.db',\n",
    "               map='v_basin',\n",
    "               type='line,boundary',\n",
    "               layer=1,\n",
    "               qlayer=1,\n",
    "               option='perimeter',\n",
    "               units='kilometers',\n",
    "               columns='perimeter',\n",
    "               quiet=True,\n",
    "               overwrite=True)\n",
    "gs.run_command('v.to.db',\n",
    "               map='v_basin',\n",
    "               type='line,boundary',\n",
    "               layer=1,\n",
    "               qlayer=1,\n",
    "               option='area',\n",
    "               units='kilometers',\n",
    "               columns='area',\n",
    "               #flags='c',\n",
    "               quiet=True,\n",
    "               overwrite=True)\n",
    "gs.message(\"Column 'Area' and 'Perimeter' are filled with value\")"
   ]
  },
  {
   "cell_type": "code",
   "execution_count": 59,
   "metadata": {},
   "outputs": [
    {
     "name": "stderr",
     "output_type": "stream",
     "text": [
      "The attribute of area and perimeter are exported.\n"
     ]
    }
   ],
   "source": [
    "# Export Selected Attributes\n",
    "gs.run_command('v.db.select',\n",
    "               map='v_basin',\n",
    "               column='perimeter, area',\n",
    "               file=os.path.join(outpath,'basin_attr'),\n",
    "               overwrite=True)\n",
    "gs.message(\"The attribute of area and perimeter are exported.\")"
   ]
  },
  {
   "cell_type": "code",
   "execution_count": 60,
   "metadata": {},
   "outputs": [
    {
     "data": {
      "text/plain": [
       "'perimeter|area\\n111.389201|263.591175\\n'"
      ]
     },
     "execution_count": 60,
     "metadata": {},
     "output_type": "execute_result"
    }
   ],
   "source": [
    "# Read Perimeter and Area from the text file\n",
    "tmp = open(os.path.join(outpath,\"basin_attr\"), \"r\")\n",
    "tmp = tmp.read()\n",
    "tmp\n",
    "#tmp.read().split('\\n')"
   ]
  },
  {
   "cell_type": "code",
   "execution_count": 68,
   "metadata": {},
   "outputs": [
    {
     "name": "stdout",
     "output_type": "stream",
     "text": [
      "The perimeter of the basin is 111.389201 km; \n",
      " The area of the basin is 263.591175 km2\n"
     ]
    }
   ],
   "source": [
    "# Extract Perimeter and Area\n",
    "perimeter_basin = float(tmp.split('\\n')[1].split('|')[0])\n",
    "area_basin = float(tmp.split('\\n')[1].split('|')[1])\n",
    "print(\"The perimeter of the basin is\",perimeter_basin, \"km; \\n\",\"The area of the basin is\", area_basin, \"km2\") # both km"
   ]
  },
  {
   "cell_type": "code",
   "execution_count": 69,
   "metadata": {},
   "outputs": [
    {
     "name": "stderr",
     "output_type": "stream",
     "text": [
      "Stream order maps of Strahler, Horton, Hack and Shreeve are created.\n"
     ]
    }
   ],
   "source": [
    "# Create stream order maps: strahler, horton, hack, shreeve\n",
    "gs.run_command('r.stream.order',\n",
    "               stream_rast = 'r_stream_e',\n",
    "               direction = 'r_drainage_e',\n",
    "               strahler = 'r_strahler', # output Strahler order\n",
    "               shreve = 'r_shreve', # output Shreve order\n",
    "               horton = 'r_horton', # output Horton order\n",
    "               hack = 'r_hack', # output Hack order\n",
    "               quiet=True,\n",
    "               overwrite=True)\n",
    "gs.message(\"Stream order maps of Strahler, Horton, Hack and Shreeve are created.\")"
   ]
  },
  {
   "cell_type": "code",
   "execution_count": 70,
   "metadata": {},
   "outputs": [
    {
     "name": "stdout",
     "output_type": "stream",
     "text": [
      "Calculated stream statistics incl. averge slope and slope ratio: \n",
      " \n",
      "Summary:\n",
      "Max order | Tot.N.str. | Tot.str.len. | Tot.area. | Dr.dens. | Str.freq. \n",
      "  (num)   |    (num)   |     (km)     |   (km2)   | (km/km2) | (num/km2) \n",
      "        5 |        251 |     711.1800 | 1161.7713 |   0.6122 |  0.2160 \n",
      "\n",
      "Stream ratios based on regression coefficient:\n",
      " Bif.rt. | Len.rt. | Area.rt. | Slo.rt. | Grd.rt. \n",
      "  3.3896 |  2.3988 |   3.6128 |  1.6948 |  1.7338\n",
      "\n",
      "Averaged stream ratios with standard deviations:\n",
      " Bif.rt. | Len.rt. | Area.rt. | Slo.rt. | Grd.rt. \n",
      "  3.7244 |  2.6211 |   2.8147 |  1.6919 |  1.7265\n",
      "  1.9316 |  0.8282 |   2.0141 |  0.3944 |  0.3134\n",
      "\n",
      "Order | Avg.len |  Avg.ar  |  Avg.sl |  Avg.grad. | Avg.el.dif\n",
      " num  |   (km)  |  (km2)   |  (m/m)  |    (m/m)   |     (m)   \n",
      "    1 |  1.2834 |   2.6950 |  0.0879 |     0.0730 | 95.5803\n",
      "    2 |  4.4655 |  10.7632 |  0.0506 |     0.0476 | 198.7209\n",
      "    3 | 12.1847 |  48.4767 |  0.0328 |     0.0307 | 330.7273\n",
      "    4 | 18.1431 | 133.8441 |  0.0148 |     0.0140 | 288.5000\n",
      "    5 | 50.5733 | 470.3467 |  0.0116 |     0.0086 | 398.0000\n",
      "\n",
      "Order | Std.len |  Std.ar  |  Std.sl |  Std.grad. | Std.el.dif\n",
      " num  |   (km)  |  (km2)   |  (m/m)  |    (m/m)   |     (m)   \n",
      "    1 |  1.0328 |   1.6231 |  0.1083 |     0.0878 | 115.0333\n",
      "    2 |  2.8618 |   9.2924 |  0.0507 |     0.0487 | 185.7813\n",
      "    3 |  5.1723 |  34.8450 |  0.0158 |     0.0153 | 104.7665\n",
      "    4 |  7.8722 |  78.7527 |  0.0085 |     0.0088 | 269.4077\n",
      "    5 | 34.7667 | 332.2767 |  0.0020 |     0.0021 | 192.3330\n",
      "\n",
      "Order | N.streams | Tot.len (km) | Tot.area (km2)\n",
      "    1 |       193 |     247.6983 | 520.1279\n",
      "    2 |        43 |     192.0170 | 462.8191\n",
      "    3 |        11 |     134.0319 | 533.2442\n",
      "    4 |         2 |      36.2862 | 267.6881\n",
      "    5 |         2 |     101.1466 | 940.6934\n",
      "\n",
      "Order | Bif.rt. | Len.rt. | Area.rt. | Slo.rt. | Grd.rt. | d.dens. | str.freq.\n",
      "    1 |  4.4884 |  3.4794 |   0.0000 |  1.7348 |  1.5334 |  0.4762 |  0.3711\n",
      "    2 |  3.9091 |  2.7286 |   3.9938 |  1.5448 |  1.5514 |  0.4149 |  0.0929\n",
      "    3 |  5.5000 |  1.4890 |   4.5039 |  2.2117 |  2.1925 |  0.2514 |  0.0206\n",
      "    4 |  1.0000 |  2.7875 |   2.7610 |  1.2761 |  1.6289 |  0.1356 |  0.0075\n",
      "    5 |  0.0000 |  0.0000 |   3.5141 |  0.0000 |  0.0000 |  0.1075 |  0.0021\n",
      "\n"
     ]
    }
   ],
   "source": [
    "# Calculate Average Slope and Slope Ratio\n",
    "stream_stats = gs.read_command('r.stream.stats',\n",
    "               stream_rast='r_horton',\n",
    "               direction='r_drainage_e',\n",
    "               elevation='r_elevation',\n",
    "               quiet=True)\n",
    "print(\"Calculated stream statistics incl. averge slope and slope ratio: \\n\",\n",
    "      stream_stats)"
   ]
  },
  {
   "cell_type": "code",
   "execution_count": 40,
   "metadata": {},
   "outputs": [],
   "source": [
    "#gs.run_command('db.out.ogr',\n",
    "#               input='stream_stats' ,\n",
    "#               output=os.path.join(outpath,'stream_stats.csv'),\n",
    "#               format='CSV')\n",
    "#stream_stats.split('\\n')"
   ]
  },
  {
   "cell_type": "code",
   "execution_count": 73,
   "metadata": {},
   "outputs": [
    {
     "name": "stderr",
     "output_type": "stream",
     "text": [
      "Distance to Outlet is calculated.\n"
     ]
    }
   ],
   "source": [
    "# Distance to Outlet\n",
    "gs.run_command('r.stream.distance',\n",
    "               stream_rast = 'r_outlet',\n",
    "               direction = 'r_drainage_e',\n",
    "               flags = 'o',\n",
    "               distance = 'r_distance',\n",
    "               quiet=True,\n",
    "               overwrite=True)\n",
    "gs.message(\"Distance to Outlet is calculated.\")"
   ]
  },
  {
   "cell_type": "code",
   "execution_count": 75,
   "metadata": {},
   "outputs": [],
   "source": [
    "# Calc Mean Slope\n",
    "#baricenter_slope_baricenter = gs.read_command(\"r.volume\",\n",
    "#                                              input='r_slope',\n",
    "#                                              clump='r_basin')\n",
    "#mean_slope = baricenter_slope_baricenter[5]\n",
    "#print(mean_slope)\n",
    "#print(baricenter_slope_baricenter)\n",
    "#baricenter_slope_baricenter#.split('\\n')[]"
   ]
  },
  {
   "cell_type": "code",
   "execution_count": 74,
   "metadata": {},
   "outputs": [
    {
     "name": "stdout",
     "output_type": "stream",
     "text": [
      "Circularity Ratio is 0.26696513826844187\n"
     ]
    }
   ],
   "source": [
    "# Circularity Ratio\n",
    "circularity_ratio = (4*math.pi*area_basin)/(perimeter_basin**2)\n",
    "print(\"Circularity Ratio is\", circularity_ratio)"
   ]
  },
  {
   "cell_type": "code",
   "execution_count": 78,
   "metadata": {},
   "outputs": [
    {
     "name": "stderr",
     "output_type": "stream",
     "text": [
      "WARNING: Vector map <v_mainchannel> already exists and will be overwritten\n",
      "Main Channel is extracted.\n"
     ]
    }
   ],
   "source": [
    "# Main Channel\n",
    "gs.mapcalc (\"$r_mainchannel = if($r_hack==1,1,null())\",\n",
    "            r_hack = 'r_hack', # input\n",
    "            r_mainchannel = 'r_mainchannel', # output\n",
    "            quiet=True,\n",
    "            overwrite=True) \n",
    "\n",
    "gs.run_command(\"r.thin\", \n",
    "               input = 'r_mainchannel',\n",
    "               output = 'r_mainchannel'+'_thin',\n",
    "               quiet=True,\n",
    "               overwrite=True)\n",
    "\n",
    "gs.run_command('r.to.vect',\n",
    "               input='r_mainchannel'+'_thin',\n",
    "               output='v_mainchannel',\n",
    "               type='line',\n",
    "               #verbose=True,\n",
    "               quiet=True,\n",
    "               overwrite=True)\n",
    "gs.message(\"Main Channel is extracted.\")"
   ]
  },
  {
   "cell_type": "code",
   "execution_count": 82,
   "metadata": {},
   "outputs": [
    {
     "name": "stderr",
     "output_type": "stream",
     "text": [
      "WARNING: Values in column <cat> will be overwritten\n",
      "WARNING: Values in column <x> will be overwritten\n",
      "WARNING: Values in column <y> will be overwritten\n"
     ]
    },
    {
     "data": {
      "text/plain": [
       "0"
      ]
     },
     "execution_count": 82,
     "metadata": {},
     "output_type": "execute_result"
    }
   ],
   "source": [
    "# Get coordinates of the outlet (belonging to stream network)\n",
    "gs.run_command('v.db.addtable', map='v_outlet_snap',\n",
    "               quiet=True,\n",
    "               overwrite=True)\n",
    "\n",
    "gs.run_command('v.db.addcolumn',\n",
    "               map='v_outlet_snap',\n",
    "               columns='x double precision, y double precision',\n",
    "               quiet=True,\n",
    "               overwrite=True)\n",
    "\n",
    "gs.run_command('v.to.db',\n",
    "               map='v_outlet_snap',\n",
    "               option='coor',\n",
    "               col='x,y',\n",
    "               quiet=True,\n",
    "               overwrite=True)\n",
    "\n",
    "gs.run_command('v.out.ascii',\n",
    "               input='v_outlet_snap',\n",
    "               output=os.path.join(outpath,'outlet_coords.txt'),\n",
    "               cats=1,\n",
    "               format=\"point\",\n",
    "               quiet=True,\n",
    "               overwrite=True)\n",
    "\n",
    "gs.message(\"Coordinate of Outlet is exported\")"
   ]
  },
  {
   "cell_type": "code",
   "execution_count": 84,
   "metadata": {},
   "outputs": [
    {
     "name": "stdout",
     "output_type": "stream",
     "text": [
      "The east and north coordinateof outlet is 490282.15625 , 1966838\n"
     ]
    }
   ],
   "source": [
    "outlet_coords = open(os.path.join(outpath,'outlet_coords.txt')).readline()\n",
    "east_o, north_o, cat = outlet_coords.split('|')\n",
    "print(\"The east and north coordinateof outlet is\", east_o, \",\", north_o)"
   ]
  },
  {
   "cell_type": "code",
   "execution_count": 85,
   "metadata": {},
   "outputs": [
    {
     "name": "stdout",
     "output_type": "stream",
     "text": [
      "The Basin length is 75.032720702 km.\n"
     ]
    }
   ],
   "source": [
    "# Basin Length\n",
    "param_mainchannel = gs.read_command('v.what',\n",
    "                                    map = 'v_mainchannel',\n",
    "                                    coordinates='%s,%s' % (east_o, north_o),\n",
    "                                    distance=5)\n",
    "basin_length = float(param_mainchannel.split('\\n')[7].split()[1])/1000 # km\n",
    "\n",
    "print(\"The Basin length is\", basin_length, \"km.\")"
   ]
  },
  {
   "cell_type": "code",
   "execution_count": 86,
   "metadata": {},
   "outputs": [
    {
     "name": "stdout",
     "output_type": "stream",
     "text": [
      "The elongation ratio is\n",
      "0.4725442921526407 0.24415734740038567\n"
     ]
    }
   ],
   "source": [
    "# Elongation Ratio\n",
    "# 1. Interpreted from Paper\n",
    "elon_ratio1 = perimeter_basin/(math.pi*basin_length)\n",
    "\n",
    "# 2. Based on r.basin\n",
    "elon_ratio2 = (2*math.sqrt(area_basin/math.pi))/basin_length\n",
    "\n",
    "print(\"The elongation ratio is\")\n",
    "print(elon_ratio1, elon_ratio2)"
   ]
  },
  {
   "cell_type": "code",
   "execution_count": 87,
   "metadata": {},
   "outputs": [
    {
     "name": "stdout",
     "output_type": "stream",
     "text": [
      "The Form Factor is  0.046819791716406545\n"
     ]
    }
   ],
   "source": [
    "# Form Factor\n",
    "form_factor = area_basin/(basin_length**2)\n",
    "print(\"The Form Factor is \", form_factor)"
   ]
  },
  {
   "cell_type": "code",
   "execution_count": 89,
   "metadata": {},
   "outputs": [
    {
     "name": "stdout",
     "output_type": "stream",
     "text": [
      "The max Altitude is  165.0 m; \n",
      " The min Altitude is  1532.0 m.\n",
      "The relative Relief is  1367.0 m.\n"
     ]
    }
   ],
   "source": [
    "# Relative Relief (Hmax - Hmin)\n",
    "height_attr = gs.read_command('r.info', \n",
    "                flags='r',\n",
    "                map='r_elevation')\n",
    "height_min = float(height_attr.strip().split('\\n')[0].split('=')[-1])\n",
    "height_max = float(height_attr.strip().split('\\n')[1].split('=')[-1])\n",
    "print(\"The max Altitude is \", height_min, \"m; \\n\", \n",
    "      \"The min Altitude is \", height_max, \"m.\")\n",
    "\n",
    "relative_relief = height_max - height_min\n",
    "print(\"The relative Relief is \", relative_relief, \"m.\") # meter"
   ]
  },
  {
   "cell_type": "code",
   "execution_count": 90,
   "metadata": {},
   "outputs": [
    {
     "name": "stdout",
     "output_type": "stream",
     "text": [
      "The Relief Ratio is  0.018218718276645972\n"
     ]
    }
   ],
   "source": [
    "# Relief Ratio\n",
    "relief_ratio = (relative_relief/1000)/basin_length\n",
    "print(\"The Relief Ratio is \", relief_ratio)"
   ]
  },
  {
   "cell_type": "code",
   "execution_count": 91,
   "metadata": {},
   "outputs": [
    {
     "name": "stdout",
     "output_type": "stream",
     "text": [
      "The Dissection Index is  0.8922976501305483\n"
     ]
    }
   ],
   "source": [
    "# Dissection Index\n",
    "dissection_index = relative_relief/height_max\n",
    "print(\"The Dissection Index is \", dissection_index)"
   ]
  },
  {
   "cell_type": "code",
   "execution_count": 92,
   "metadata": {},
   "outputs": [
    {
     "name": "stderr",
     "output_type": "stream",
     "text": [
      "Gtk-Message: 16:26:13.559: Failed to load module \"atk-bridge\"\n",
      "Gtk-Message: 16:26:13.590: Failed to load module \"canberra-gtk-module\"\n"
     ]
    },
    {
     "name": "stdout",
     "output_type": "stream",
     "text": [
      "Tot. cells 158241.0\n",
      "===========================\n",
      "Hypsometric | quantiles\n",
      "===========================\n",
      "823 | 0.025\n",
      "755 | 0.05\n",
      "693 | 0.1\n",
      "582 | 0.25\n",
      "436 | 0.5\n",
      "250 | 0.75\n",
      "196 | 0.9\n",
      "176 | 0.975\n",
      "\n",
      "\n",
      "Done!\n"
     ]
    },
    {
     "name": "stderr",
     "output_type": "stream",
     "text": [
      "The Hupometric Curve is generated.\n"
     ]
    }
   ],
   "source": [
    "# Hypometric Curve\n",
    "gs.run_command('r.hypso', \n",
    "               map = 'r_elevation',\n",
    "               image=os.path.join(outpath,'hysometric_curve.png'),\n",
    "               flags='a',\n",
    "               quiet=True,\n",
    "               overwrite=True)\n",
    "gs.message(\"The Hupometric Curve is generated.\")"
   ]
  },
  {
   "cell_type": "code",
   "execution_count": 94,
   "metadata": {},
   "outputs": [
    {
     "name": "stderr",
     "output_type": "stream",
     "text": [
      "The indices are summarised and exported.\n"
     ]
    }
   ],
   "source": [
    "# Write Indices to CSV File\n",
    "csvfile = os.path.join(outpath, \"output_indices.csv\")\n",
    "with open(csvfile, 'w') as f:\n",
    "    writer = csv.writer(f)\n",
    "    writer.writerow(['Relative Relief (m)'] + [relative_relief])\n",
    "    writer.writerow(['Relief Ratio'] + [relief_ratio])\n",
    "    writer.writerow(['Dessection Index'] + [dissection_index])\n",
    "    writer.writerow(['Form factor'] + [form_factor])\n",
    "    writer.writerow(['Circularity Ratio'] + [circularity_ratio])\n",
    "    writer.writerow(['Elongation Ratio'] + [elon_ratio1])\n",
    "    writer.writerow(['Basin Area (km2)'] + [area_basin])\n",
    "    writer.writerow(['Basin Perimeter (km)'] + [perimeter_basin])\n",
    "    \n",
    "gs.message(\"The indices are summarised and exported.\")    "
   ]
  }
 ],
 "metadata": {
  "kernelspec": {
   "display_name": "Python 3 (Spyder)",
   "language": "python3",
   "name": "python3"
  },
  "language_info": {
   "codemirror_mode": {
    "name": "ipython",
    "version": 3
   },
   "file_extension": ".py",
   "mimetype": "text/x-python",
   "name": "python",
   "nbconvert_exporter": "python",
   "pygments_lexer": "ipython3",
   "version": "3.7.8"
  }
 },
 "nbformat": 4,
 "nbformat_minor": 4
}
