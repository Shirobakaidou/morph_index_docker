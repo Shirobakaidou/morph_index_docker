{
 "cells": [
  {
   "cell_type": "markdown",
   "metadata": {},
   "source": [
    "## Part_3. Calculate Some Morphological Parameters of the Basin using GRASS GIS"
   ]
  },
  {
   "cell_type": "code",
   "execution_count": 125,
   "metadata": {},
   "outputs": [],
   "source": [
    "import os\n",
    "import sys\n",
    "import subprocess\n",
    "import shutil\n",
    "import binascii\n",
    "import tempfile\n",
    "\n",
    "from grass_session import Session\n",
    "import grass.script as gs\n",
    "import grass.script.setup as gsetup\n",
    "\n",
    "import numpy as np\n",
    "import matplotlib\n",
    "import wx\n",
    "import math\n",
    "import csv"
   ]
  },
  {
   "cell_type": "code",
   "execution_count": 2,
   "metadata": {},
   "outputs": [
    {
     "data": {
      "text/plain": [
       "'/home/shirobakaidou/eagle/MET_Spatial_Python/grass'"
      ]
     },
     "execution_count": 2,
     "metadata": {},
     "output_type": "execute_result"
    }
   ],
   "source": [
    "os.chdir('/home/shirobakaidou/eagle/MET_Spatial_Python/grass')\n",
    "os.getcwd()"
   ]
  },
  {
   "cell_type": "code",
   "execution_count": 3,
   "metadata": {},
   "outputs": [
    {
     "name": "stdout",
     "output_type": "stream",
     "text": [
      "{'GISDBASE': '/home/shirobakaidou/eagle/MET_Spatial_Python/grass', 'LOCATION_NAME': 'mylocation', 'MAPSET': 'PERMANENT'}\n"
     ]
    }
   ],
   "source": [
    "# Define GRASS Database\n",
    "dbase = os.getcwd()\n",
    "location = 'mylocation'\n",
    "\n",
    "# Set GISBASE environment variable\n",
    "gisbase = '/usr/lib/grass78'\n",
    "os.environ['GISBASE'] = str(gisbase)\n",
    "\n",
    "# Initialize\n",
    "gsetup.init(os.environ['GISBASE'], dbase, location, 'PERMANENT')\n",
    "\n",
    "print(gs.gisenv())"
   ]
  },
  {
   "cell_type": "code",
   "execution_count": 4,
   "metadata": {},
   "outputs": [
    {
     "name": "stderr",
     "output_type": "stream",
     "text": [
      "WARNING: Location <mylocation> already exists. Operation canceled.\n"
     ]
    }
   ],
   "source": [
    "# Create Location\n",
    "gs.create_location(dbase, location)"
   ]
  },
  {
   "cell_type": "code",
   "execution_count": 20,
   "metadata": {},
   "outputs": [
    {
     "name": "stderr",
     "output_type": "stream",
     "text": [
      "Location <rbasin_reproduce> created\n",
      "You can switch to the new location by\n",
      "`g.mapset mapset=PERMANENT location=rbasin_reproduce`\n"
     ]
    },
    {
     "data": {
      "text/plain": [
       "0"
      ]
     },
     "execution_count": 20,
     "metadata": {},
     "output_type": "execute_result"
    }
   ],
   "source": [
    "# Create a new location, using a georeferenced file\n",
    "#gs.run_command('g.proj', flags=\"c\",\n",
    "#               georef=\"/home/shirobakaidou/eagle/MET_Spatial_Python/data/hydroDEM_clip.tif\",\n",
    "#               location=\"rbasin_reproduce\")"
   ]
  },
  {
   "cell_type": "code",
   "execution_count": 21,
   "metadata": {},
   "outputs": [
    {
     "name": "stderr",
     "output_type": "stream",
     "text": [
      "Mapset switched. Your shell continues to use the history for the old mapset\n",
      "You can switch the history by commands:\n",
      "history -w; history -r\n",
      "/home/shirobakaidou/eagle/MET_Spatial_Python/grass/rbasin_reproduce/PERMANENT/.bash_history;\n",
      "HISTFILE=/home/shirobakaidou/eagle/MET_Spatial_Python/grass/rbasin_reproduce/PERMANENT/.bash_history\n"
     ]
    },
    {
     "data": {
      "text/plain": [
       "0"
      ]
     },
     "execution_count": 21,
     "metadata": {},
     "output_type": "execute_result"
    }
   ],
   "source": [
    "# Switch to the location_vietnam, mapset \"PERMANENT\"\n",
    "gs.run_command('g.mapset', \n",
    "               #location=\"mylocation\",\n",
    "               location=\"rbasin_reproduce\",\n",
    "               mapset=\"PERMANENT\")"
   ]
  },
  {
   "cell_type": "code",
   "execution_count": null,
   "metadata": {},
   "outputs": [],
   "source": [
    "# Install hydrology related GRASS Addons\n",
    "\n",
    "#gs.run_command('g.extension', extension='r.basin', operation='add')\n",
    "#gs.run_command('g.extension', extension='r.hypso', operation='add')\n",
    "#gs.run_command('g.extension', extension='r.stream.basins', operation='add')\n",
    "#gs.run_command('g.extension', extension='r.stream.distance', operation='add')\n",
    "#gs.run_command('g.extension', extension='r.stream.order', operation='add')\n",
    "#gs.run_command('g.extension', extension='r.stream.snap', operation='add')\n",
    "#gs.run_command('g.extension', extension='r.stream.stats', operation='add')\n",
    "#gs.run_command('g.extension', extension='r.width.funct', operation='add')\n",
    "#gs.run_command('g.extension', extension='r.stream.channel', operation='add')\n",
    "#gs.run_command('g.extension', extension='r.stream.segment', operation='add')\n",
    "#gs.run_command('g.extension', extension='r.stream.slope', operation='add')"
   ]
  },
  {
   "cell_type": "code",
   "execution_count": 22,
   "metadata": {},
   "outputs": [
    {
     "name": "stdout",
     "output_type": "stream",
     "text": [
      "-PROJ_INFO-------------------------------------------------\n",
      "name       : WGS 84 / UTM zone 48N\n",
      "datum      : wgs84\n",
      "ellps      : wgs84\n",
      "proj       : utm\n",
      "zone       : 48\n",
      "no_defs    : defined\n",
      "-PROJ_EPSG-------------------------------------------------\n",
      "epsg       : 32648\n",
      "-PROJ_UNITS------------------------------------------------\n",
      "unit       : meter\n",
      "units      : meters\n",
      "meters     : 1\n"
     ]
    },
    {
     "data": {
      "text/plain": [
       "0"
      ]
     },
     "execution_count": 22,
     "metadata": {},
     "output_type": "execute_result"
    }
   ],
   "source": [
    "# Display CRS Info\n",
    "gs.run_command('g.proj', flags=\"p\")"
   ]
  },
  {
   "cell_type": "code",
   "execution_count": 24,
   "metadata": {},
   "outputs": [
    {
     "name": "stderr",
     "output_type": "stream",
     "text": [
      "Importing raster map <r_elevation>...\n",
      "   0   3   6   9  12  15  18  21  24  27  30  33  36  39  42  45  48  51  54  57  60  63  66  69  72  75  78  81  84  87  90  93  96  99 100\n"
     ]
    },
    {
     "data": {
      "text/plain": [
       "0"
      ]
     },
     "execution_count": 24,
     "metadata": {},
     "output_type": "execute_result"
    }
   ],
   "source": [
    "# Read GeoTiFF as GRASS Raster (Import Raster)\n",
    "gs.run_command('r.in.gdal', \n",
    "               #flags='e', # update the default region\n",
    "               input='/home/shirobakaidou/eagle/MET_Spatial_Python/data/hydroDEM_clip.tif',\n",
    "               output='r_elevation', \n",
    "               overwrite=True)"
   ]
  },
  {
   "cell_type": "code",
   "execution_count": 25,
   "metadata": {},
   "outputs": [
    {
     "name": "stdout",
     "output_type": "stream",
     "text": [
      "projection: 1 (UTM)\n",
      "zone:       48\n",
      "datum:      wgs84\n",
      "ellipsoid:  wgs84\n",
      "north:      1998522.28534274\n",
      "south:      1937087.40340192\n",
      "west:       464222.85466713\n",
      "east:       513265.29261131\n",
      "nsres:      87.88967374\n",
      "ewres:      87.88967374\n",
      "rows:       699\n",
      "cols:       558\n",
      "cells:      390042\n"
     ]
    },
    {
     "data": {
      "text/plain": [
       "0"
      ]
     },
     "execution_count": 25,
     "metadata": {},
     "output_type": "execute_result"
    }
   ],
   "source": [
    "# Set Region\n",
    "gs.run_command('g.region', \n",
    "               flags=\"pa\",\n",
    "               raster='r_elevation')"
   ]
  },
  {
   "cell_type": "code",
   "execution_count": 15,
   "metadata": {},
   "outputs": [
    {
     "name": "stderr",
     "output_type": "stream",
     "text": [
      "threshold : 129.45662942175616\n"
     ]
    }
   ],
   "source": [
    "# Define Threshold:\n",
    "# source: https://github.com/OSGeo/grass-addons/blob/master/grass7/raster/r.basin/r.basin.py\n",
    "resolution = gs.region()['nsres']\n",
    "th = 1000000 / (resolution**2)\n",
    "gs.message( \"threshold : %s\" % th )"
   ]
  },
  {
   "cell_type": "code",
   "execution_count": 58,
   "metadata": {},
   "outputs": [],
   "source": [
    "# Define Output Location\n",
    "outpath = os.path.join(os.path.split(os.getcwd())[0], 'output', 'location_reproduce_rbasin')"
   ]
  },
  {
   "cell_type": "code",
   "execution_count": 26,
   "metadata": {},
   "outputs": [
    {
     "name": "stderr",
     "output_type": "stream",
     "text": [
      "SECTION 1 beginning: Initiating Variables. 4 sections total.\n",
      "SECTION 1a: Mark masked and NULL cells\n",
      "   0   2   4   6   8  10  12  14  16  18  20  22  24  26  28  30  32  34  36  38  40  42  44  46  48  50  52  54  56  58  60  62  64  66  68  70  72  74  76  78  80  82  84  86  88  90  92  94  96  98 100\n",
      "SECTION 1b: Determining Offmap Flow.\n",
      "   0   2   4   6   8  10  12  14  16  18  20  22  24  26  28  30  32  34  36  38  40  42  44  46  48  50  52  54  56  58  60  62  64  66  68  70  72  74  76  78  80  82  84  86  88  90  92  94  96  98 100\n",
      "SECTION 2: A* Search.\n",
      "   0   2   4   6   8  10  12  14  16  18  20  22  24  26  28  30  32  34  36  38  40  42  44  46  48  50  52  54  56  58  60  62  64  66  68  70  72  74  76  78  80  82  84  86  88  90  92  94  96  98 100\n",
      "SECTION 3: Accumulating Surface Flow with SFD.\n",
      "   0   2   4   6   8  10  12  14  16  18  20  22  24  26  28  30  32  34  36  38  40  42  44  46  48  50  52  54  56  58  60  62  64  66  68  70  72  74  76  78  80  82  84  86  88  90  92  94  96  98 100\n",
      "SECTION 4: Closing Maps.\n",
      "Closing accumulation map\n",
      "Writing out only positive flow accumulation values.\n",
      "Cells with a likely underestimate for flow accumulation can no longer be\n",
      "identified.\n",
      "   0   2   4   6   8  10  12  14  16  18  20  22  24  26  28  30  32  34  36  38  40  42  44  46  48  50  52  54  56  58  60  62  64  66  68  70  72  74  76  78  80  82  84  86  88  90  92  94  96  98 100\n",
      "Closing flow direction map\n",
      "   0   2   4   6   8  10  12  14  16  18  20  22  24  26  28  30  32  34  36  38  40  42  44  46  48  50  52  54  56  58  60  62  64  66  68  70  72  74  76  78  80  82  84  86  88  90  92  94  96  98"
     ]
    },
    {
     "data": {
      "text/plain": [
       "0"
      ]
     },
     "execution_count": 26,
     "metadata": {},
     "output_type": "execute_result"
    }
   ],
   "source": [
    "# Watershed SFD (single flow direction)\n",
    "gs.run_command('r.watershed',\n",
    "               flags='ams',\n",
    "               elevation='r_elevation',\n",
    "               accumulation='r_accumulation', # output accumulation\n",
    "               drainage='r_drainage', # output flow direction\n",
    "               convergence=5,\n",
    "               overwrite=True)"
   ]
  },
  {
   "cell_type": "code",
   "execution_count": 27,
   "metadata": {},
   "outputs": [
    {
     "name": "stderr",
     "output_type": "stream",
     "text": [
      "Loading input raster maps...\n",
      "   0   3   6   9  12  15  18  21  24  27  30  33  36  39  42  45  48  51  54  57  60  63  66  69  72  75  78  81  84  87  90  93  96  99 100\n",
      "Initializing A* search...\n",
      "   0   3   6   9  12  15  18  21  24  27  30  33  36  39  42  45  48  51  54  57  60  63  66  69  72  75  78  81  84  87  90  93  96  99 100\n",
      "A* Search...\n",
      "   0   2   4   6   8  10  12  14  16  18  20  22  24  26  28  30  32  34  36  38  40  42  44  46  48  50  52  54  56  58  60  62  64  66  68  70  72  74  76  78  80  82  84  86  88  90  92  94  96  98 100\n",
      "Extracting streams...\n",
      "   0   2   4   6   8  10  12  14  16  18  20  22  24  26  28  30  32  34  36  38  40  42  44  46  48  50  52  54  56  58  60  62  64  66  68  70  72  74  76  78  80  82  84  86  88  90  92  94  96  98 100\n",
      "Thinning stream segments...\n",
      "   0  12  25  37  50  62  75  87 100\n",
      "Writing output raster maps...\n",
      "   0   3   6   9  12  15  18  21  24  27  30  33  36  39  42  45  48  51  54  57  60  63  66  69  72  75  78  81  84  87  90  93  96  99 100\n"
     ]
    },
    {
     "data": {
      "text/plain": [
       "0"
      ]
     },
     "execution_count": 27,
     "metadata": {},
     "output_type": "execute_result"
    }
   ],
   "source": [
    "# Stream Extraction\n",
    "gs.run_command('r.stream.extract', \n",
    "               elevation = 'r_elevation',\n",
    "               accumulation = 'r_accumulation',\n",
    "               threshold = th,\n",
    "               #d8cut =  1000000000,\n",
    "               mexp = 0,\n",
    "               stream_rast = 'r_stream_e', # output unique stream ids\n",
    "               direction = 'r_drainage_e',\n",
    "               overwrite=True)"
   ]
  },
  {
   "cell_type": "code",
   "execution_count": 28,
   "metadata": {},
   "outputs": [
    {
     "name": "stderr",
     "output_type": "stream",
     "text": [
      "Scanning input for column types...\n",
      "Number of columns: 3\n",
      "Number of rows: 1\n",
      "Default driver / database set to:\n",
      "driver: sqlite\n",
      "database: $GISDBASE/$LOCATION_NAME/$MAPSET/sqlite/sqlite.db\n",
      "Importing points...\n",
      "   0 100\n",
      "Populating table...\n",
      "Building topology for vector map <v_outlet@PERMANENT>...\n",
      "Registering primitives...\n",
      "Reading raster map <r_stream_e>...\n",
      "   0   3   6   9  12  15  18  21  24  27  30  33  36  39  42  45  48  51  54  57  60  63  66  69  72  75  78  81  84  87  90  93  96  99 100\n",
      "Building topology for vector map <v_outlet_snap@PERMANENT>...\n",
      "Registering primitives...\n",
      "Reading features...\n",
      " 100\n",
      "Writing raster map...\n",
      "   0   3   6   9  12  15  18  21  24  27  30  33  36  39  42  45  48  51  54  57  60  63  66  69  72  75  78  81  84  87  90  93  96  99 100\n",
      "v.to.rast complete.\n",
      "Memory swap calculation (may take some time)...\n",
      "Reading raster map <r_drainage_e>...\n",
      "   0   3   6   9  12  15  18  21  24  27  30  33  36  39  42  45  48  51  54  57  60  63  66  69  72  75  78  81  84  87  90  93  96  99 100\n",
      "Calculating basins using vector point map...\n",
      "Delineating basins for 1 outlets...\n",
      "   0 100\n",
      "Writing raster map <r_basin>...\n",
      "   0   3   6   9  12  15  18  21  24  27  30  33  36  39  42  45  48  51  54  57  60  63  66  69  72  75  78  81  84  87  90  93  96  99 100\n",
      "Delineation of basin done\n"
     ]
    }
   ],
   "source": [
    "# Delineation of basin: Create outlet\n",
    "# Create outlet\n",
    "gs.write_command('v.in.ascii',\n",
    "                 input='-',\n",
    "                 output='v_outlet',\n",
    "                 sep=\",\",\n",
    "                 stdin=\"%s,9999\" % (\"490282.15625,1966838\"), # <modify coordinates>\n",
    "                 overwrite=True)\n",
    "# The point is snapped to the nearest point which lies on the streamline\n",
    "gs.run_command('r.stream.snap',\n",
    "               input='v_outlet', \n",
    "               stream_rast='r_stream_e', # Input stream network\n",
    "               output='v_outlet_snap', # output vector points map\n",
    "               overwrite=True)\n",
    "gs.run_command('v.to.rast',\n",
    "               input='v_outlet_snap',\n",
    "               output='r_outlet',\n",
    "               use='cat',\n",
    "               type='point',\n",
    "               layer=1,\n",
    "               value=1,\n",
    "               overwrite=True)\n",
    "# Delineates basins\n",
    "gs.run_command('r.stream.basins',\n",
    "               direction='r_drainage_e', # Input flow direction\n",
    "               points='v_outlet_snap', # Input vector points\n",
    "               basins='r_basin', # Output basin\n",
    "               overwrite=True)\n",
    "gs.message(\"Delineation of basin done\")"
   ]
  },
  {
   "cell_type": "code",
   "execution_count": 29,
   "metadata": {},
   "outputs": [
    {
     "name": "stderr",
     "output_type": "stream",
     "text": [
      "   0   3   6   9  12  15  18  21  24  27  30  33  36  39  42  45  48  51  54  57  60  63  66  69  72  75  78  81  84  87  90  93  96  99 100\n",
      "Aspect raster map <r_aspect> complete\n",
      "Slope raster map <r_slope> complete\n"
     ]
    },
    {
     "data": {
      "text/plain": [
       "0"
      ]
     },
     "execution_count": 29,
     "metadata": {},
     "output_type": "execute_result"
    }
   ],
   "source": [
    "# Creation of Slope and Aspect maps\n",
    "gs.run_command('r.slope.aspect',\n",
    "               elevation='r_elevation',\n",
    "               slope='r_slope',\n",
    "               aspect = 'r_aspect',\n",
    "               overwrite=True)"
   ]
  },
  {
   "cell_type": "code",
   "execution_count": 30,
   "metadata": {},
   "outputs": [
    {
     "name": "stderr",
     "output_type": "stream",
     "text": [
      "Extracting areas...\n",
      "   0   3   6   9  12  15  18  21  24  27  30  33  36  39  42  45  48  51  54  57  60  63  66  69  72  75  78  81  84  87  90  93  96  99 100\n",
      "Writing areas...\n",
      "   0   4   8  12  16  20  24  28  32  36  40  44  48  52  56  60  64  68  72  76  80  84  88  92  96 100\n",
      "Updating attributes...\n",
      "   0 100\n",
      "Building topology for vector map <v_basin@PERMANENT>...\n",
      "Registering primitives...\n",
      "Building areas...\n",
      "   0 100\n",
      "Attaching islands...\n",
      "   0 100\n",
      "Attaching centroids...\n",
      "   0 100\n",
      "r.to.vect complete.\n"
     ]
    },
    {
     "data": {
      "text/plain": [
       "0"
      ]
     },
     "execution_count": 30,
     "metadata": {},
     "output_type": "execute_result"
    }
   ],
   "source": [
    "# Create Basin Mask (Vector)\n",
    "gs.run_command('r.to.vect',\n",
    "               input='r_basin',\n",
    "               output='v_basin',\n",
    "               type='area',\n",
    "               flags='sv',\n",
    "               overwrite=True)"
   ]
  },
  {
   "cell_type": "code",
   "execution_count": 31,
   "metadata": {},
   "outputs": [
    {
     "data": {
      "text/plain": [
       "0"
      ]
     },
     "execution_count": 31,
     "metadata": {},
     "output_type": "execute_result"
    }
   ],
   "source": [
    "# Add two columns to the table 'basin': Area and Perimeter\n",
    "gs.run_command('v.db.addcolumn',\n",
    "               map='v_basin',\n",
    "               columns='area double precision') # name & type\n",
    "gs.run_command('v.db.addcolumn',\n",
    "               map='v_basin',\n",
    "               columns='perimeter double precision')"
   ]
  },
  {
   "cell_type": "code",
   "execution_count": 32,
   "metadata": {},
   "outputs": [
    {
     "name": "stderr",
     "output_type": "stream",
     "text": [
      "WARNING: Values in column <perimeter> will be overwritten\n",
      "Reading areas...\n",
      " 100\n",
      "Updating database...\n",
      "   0 100\n",
      "1 categories read from vector map (layer 1)\n",
      "1 records selected from table (layer 1)\n",
      "1 categories read from vector map exist in selection from table\n",
      "1 records updated/inserted (layer 1)\n",
      "WARNING: Values in column <area> will be overwritten\n",
      "Reading areas...\n",
      " 100\n",
      "Updating database...\n",
      "   0 100\n",
      "1 categories read from vector map (layer 1)\n",
      "1 records selected from table (layer 1)\n",
      "1 categories read from vector map exist in selection from table\n",
      "1 records updated/inserted (layer 1)\n"
     ]
    },
    {
     "data": {
      "text/plain": [
       "0"
      ]
     },
     "execution_count": 32,
     "metadata": {},
     "output_type": "execute_result"
    }
   ],
   "source": [
    "# Populate Perimeter Column\n",
    "gs.run_command('v.to.db',\n",
    "               map='v_basin',\n",
    "               type='line,boundary',\n",
    "               layer=1,\n",
    "               qlayer=1,\n",
    "               option='perimeter',\n",
    "               units='kilometers',\n",
    "               columns='perimeter',\n",
    "               overwrite=True)\n",
    "gs.run_command('v.to.db',\n",
    "               map='v_basin',\n",
    "               type='line,boundary',\n",
    "               layer=1,\n",
    "               qlayer=1,\n",
    "               option='area',\n",
    "               units='kilometers',\n",
    "               columns='area',\n",
    "               #flags='c',\n",
    "               overwrite=True)"
   ]
  },
  {
   "cell_type": "code",
   "execution_count": 65,
   "metadata": {},
   "outputs": [
    {
     "data": {
      "text/plain": [
       "0"
      ]
     },
     "execution_count": 65,
     "metadata": {},
     "output_type": "execute_result"
    }
   ],
   "source": [
    "# Export Selected Attributes\n",
    "gs.run_command('v.db.select',\n",
    "               map='v_basin',\n",
    "               column='perimeter, area',\n",
    "               file=os.path.join(outpath,'basin_attr'))"
   ]
  },
  {
   "cell_type": "code",
   "execution_count": 66,
   "metadata": {},
   "outputs": [
    {
     "data": {
      "text/plain": [
       "'perimeter|area\\n111.389201|263.591175\\n'"
      ]
     },
     "execution_count": 66,
     "metadata": {},
     "output_type": "execute_result"
    }
   ],
   "source": [
    "# Read Perimeter and Area from the text file\n",
    "tmp = open(os.path.join(outpath,\"basin_attr\"), \"r\")\n",
    "tmp = tmp.read()\n",
    "tmp\n",
    "#tmp.read().split('\\n')"
   ]
  },
  {
   "cell_type": "code",
   "execution_count": 81,
   "metadata": {},
   "outputs": [
    {
     "name": "stdout",
     "output_type": "stream",
     "text": [
      "111.389201 263.591175\n"
     ]
    }
   ],
   "source": [
    "# Extract Perimeter and Area\n",
    "perimeter_basin = float(tmp.split('\\n')[1].split('|')[0])\n",
    "area_basin = float(tmp.split('\\n')[1].split('|')[1])\n",
    "print(perimeter, area) # both km"
   ]
  },
  {
   "cell_type": "code",
   "execution_count": 52,
   "metadata": {},
   "outputs": [
    {
     "name": "stderr",
     "output_type": "stream",
     "text": [
      "Memory swap calculation (may take some time)...\n",
      "Reading raster map <r_stream_e>...\n",
      "   0   3   6   9  12  15  18  21  24  27  30  33  36  39  42  45  48  51  54  57  60  63  66  69  72  75  78  81  84  87  90  93  96  99 100\n",
      "Reading raster map <r_drainage_e>...\n",
      "   0   3   6   9  12  15  18  21  24  27  30  33  36  39  42  45  48  51  54  57  60  63  66  69  72  75  78  81  84  87  90  93  96  99 100\n",
      "Finding nodes...\n",
      "   0   3   6   9  12  15  18  21  24  27  30  33  36  39  42  45  48  51  54  57  60  63  66  69  72  75  78  81  84  87  90  93  96  99 100\n",
      "Finding longest streams...\n",
      "   0   3   6   9  12  15  18  21  24  27  30  33  36  39  42  45  48  51  54  57  60  63  66  69  72  75  78  81  84  87  90  93  96  99 100\n",
      "Calculating Strahler's stream order...\n",
      "Calculating Hortons's stream order...\n",
      "Calculating Shreve's stream magnitude, Scheidegger's consistent integer and\n",
      "Drwal's streams hierarchy (old style)...\n",
      "Calculating Hack's main streams and topological dimension...\n"
     ]
    },
    {
     "data": {
      "text/plain": [
       "0"
      ]
     },
     "execution_count": 52,
     "metadata": {},
     "output_type": "execute_result"
    }
   ],
   "source": [
    "# Create stream order maps: strahler, horton, hack, shreeve\n",
    "gs.run_command('r.stream.order',\n",
    "               stream_rast = 'r_stream_e',\n",
    "               direction = 'r_drainage_e',\n",
    "               strahler = 'r_strahler', # output Strahler order\n",
    "               shreve = 'r_shreve', # output Shreve order\n",
    "               horton = 'r_horton', # output Horton order\n",
    "               hack = 'r_hack') # output Hack order"
   ]
  },
  {
   "cell_type": "code",
   "execution_count": 54,
   "metadata": {},
   "outputs": [
    {
     "name": "stderr",
     "output_type": "stream",
     "text": [
      "Calculating segments in direction <DOWNSTREAM> (may take some time)...\n",
      "Reading raster map <r_outlet>...\n",
      "   0   3   6   9  12  15  18  21  24  27  30  33  36  39  42  45  48  51  54  57  60  63  66  69  72  75  78  81  84  87  90  93  96  99 100\n",
      "Reading raster map <r_drainage_e>...\n",
      "   0   3   6   9  12  15  18  21  24  27  30  33  36  39  42  45  48  51  54  57  60  63  66  69  72  75  78  81  84  87  90  93  96  99 100\n",
      "Finding nodes...\n",
      "Calculate downstream parameters...\n",
      "   0 100\n",
      "Writing raster map <r_distance>...\n",
      "   0   3   6   9  12  15  18  21  24  27  30  33  36  39  42  45  48  51  54  57  60  63  66  69  72  75  78  81  84  87  90  93  96  99 100\n"
     ]
    },
    {
     "data": {
      "text/plain": [
       "0"
      ]
     },
     "execution_count": 54,
     "metadata": {},
     "output_type": "execute_result"
    }
   ],
   "source": [
    "# Distance to Outlet\n",
    "gs.run_command('r.stream.distance',\n",
    "               stream_rast = 'r_outlet',\n",
    "               direction = 'r_drainage_e',\n",
    "               flags = 'o',\n",
    "               distance = 'r_distance')"
   ]
  },
  {
   "cell_type": "code",
   "execution_count": 80,
   "metadata": {},
   "outputs": [
    {
     "name": "stderr",
     "output_type": "stream",
     "text": [
      "   0   3   6   9  12  15  18  21  24  27  30  33  36  39  42  45  48  51  54  57  60  63  66  69  72  75  78  81  84  87  90  93  96  99 100\n"
     ]
    },
    {
     "data": {
      "text/plain": [
       "'\\nVolume report on data from <r_slope> using clumps on <r_basin> raster map\\n\\nCategory   Average   Data   # Cells        Centroid             Total\\nNumber     in clump  Total  in clump   Easting     Northing     Volume\\n-----------------------------------------------------------------------------\\n       1     11.38    385749   33888   482723.63  1985207.00    2979757814.20\\n-----------------------------------------------------------------------------\\n                                                Total Volume =  2979757814.20\\n'"
      ]
     },
     "execution_count": 80,
     "metadata": {},
     "output_type": "execute_result"
    }
   ],
   "source": [
    "# Calc Mean Slope\n",
    "baricenter_slope_baricenter = gs.read_command(\"r.volume\",\n",
    "                                              input='r_slope',\n",
    "                                              clump='r_basin')\n",
    "#mean_slope = baricenter_slope_baricenter[5]\n",
    "#print(mean_slope)\n",
    "#print(baricenter_slope_baricenter)\n",
    "baricenter_slope_baricenter#.split('\\n')[]"
   ]
  },
  {
   "cell_type": "code",
   "execution_count": 84,
   "metadata": {},
   "outputs": [
    {
     "data": {
      "text/plain": [
       "0.26696513826844187"
      ]
     },
     "execution_count": 84,
     "metadata": {},
     "output_type": "execute_result"
    }
   ],
   "source": [
    "# Circularity Ratio\n",
    "circularity_ratio = (4*math.pi*area_basin)/(perimeter_basin**2)\n",
    "circularity_ratio"
   ]
  },
  {
   "cell_type": "code",
   "execution_count": 87,
   "metadata": {},
   "outputs": [
    {
     "name": "stderr",
     "output_type": "stream",
     "text": [
      "Raster map <r_mainchannel> - 699 rows X 558 columns\n",
      "Bounding box: l = 3, r = 519, t = 39, b = 621\n",
      "Pass number 1\n",
      "Deleted 0 pixels\n",
      "Thinning completed successfully.\n",
      "Output map 699 rows X 558 columns\n",
      "Window 699 rows X 558 columns\n",
      "Using native format\n",
      "Extracting lines...\n",
      "   2   5   8  11  14  17  20  23  26  29  32  35  38  41  44  47  50  53  56  59  62  65  68  71  74  77  80  83  86  89  92  95  98 100\n",
      " 100\n",
      "Building topology for vector map <v_mainchannel@PERMANENT>...\n",
      "Registering primitives...\n",
      "8 primitives registered\n",
      "529 vertices registered\n",
      "Topology was built\n",
      "Number of nodes: 16\n",
      "Number of primitives: 8\n",
      "Number of points: 0\n",
      "Number of lines: 8\n",
      "Number of boundaries: 0\n",
      "Number of centroids: 0\n",
      "Number of areas: 0\n",
      "Number of isles: 0\n",
      "r.to.vect complete.\n"
     ]
    },
    {
     "data": {
      "text/plain": [
       "0"
      ]
     },
     "execution_count": 87,
     "metadata": {},
     "output_type": "execute_result"
    }
   ],
   "source": [
    "# Main Channel\n",
    "gs.mapcalc (\"$r_mainchannel = if($r_hack==1,1,null())\",\n",
    "            r_hack = 'r_hack', # input\n",
    "            r_mainchannel = 'r_mainchannel', # output\n",
    "            overwrite=True) \n",
    "\n",
    "gs.run_command(\"r.thin\", \n",
    "               input = 'r_mainchannel',\n",
    "               output = 'r_mainchannel'+'_thin')\n",
    "\n",
    "gs.run_command('r.to.vect',\n",
    "               input='r_mainchannel'+'_thin',\n",
    "               output='v_mainchannel',\n",
    "               type='line',\n",
    "               verbose=True)"
   ]
  },
  {
   "cell_type": "code",
   "execution_count": 88,
   "metadata": {},
   "outputs": [
    {
     "name": "stderr",
     "output_type": "stream",
     "text": [
      "WARNING: Values in column <cat> will be overwritten\n",
      "Reading features...\n",
      "   0 100\n",
      "Updating database...\n",
      "   0 100\n",
      "1 categories read from vector map (layer 1)\n",
      "1 categories read from vector map don't exist in selection from table\n",
      "1 records updated/inserted (layer 1)\n",
      "WARNING: Values in column <x> will be overwritten\n",
      "WARNING: Values in column <y> will be overwritten\n",
      "Reading features...\n",
      "   0 100\n",
      "Updating database...\n",
      "   0 100\n",
      "1 categories read from vector map (layer 1)\n",
      "1 records selected from table (layer 1)\n",
      "1 categories read from vector map exist in selection from table\n",
      "1 records updated/inserted (layer 1)\n",
      "Fetching data...\n"
     ]
    },
    {
     "data": {
      "text/plain": [
       "0"
      ]
     },
     "execution_count": 88,
     "metadata": {},
     "output_type": "execute_result"
    }
   ],
   "source": [
    "# Get coordinates of the outlet (belonging to stream network)\n",
    "gs.run_command('v.db.addtable', map='v_outlet_snap')\n",
    "\n",
    "gs.run_command('v.db.addcolumn',\n",
    "               map='v_outlet_snap',\n",
    "               columns='x double precision, y double precision')\n",
    "\n",
    "gs.run_command('v.to.db',\n",
    "               map='v_outlet_snap',\n",
    "               option='coor',\n",
    "               col='x,y')\n",
    "\n",
    "gs.run_command('v.out.ascii',\n",
    "               input='v_outlet_snap',\n",
    "               output=os.path.join(outpath,'outlet_coords.txt'),\n",
    "               cats=1,\n",
    "               format=\"point\")"
   ]
  },
  {
   "cell_type": "code",
   "execution_count": 93,
   "metadata": {},
   "outputs": [
    {
     "name": "stdout",
     "output_type": "stream",
     "text": [
      "490282.15625 1966838 1\n",
      "\n"
     ]
    }
   ],
   "source": [
    "outlet_coords = open(os.path.join(outpath,'outlet_coords.txt')).readline()\n",
    "east_o, north_o, cat = outlet_coords.split('|')\n",
    "print(east_o, north_o, cat)"
   ]
  },
  {
   "cell_type": "code",
   "execution_count": 101,
   "metadata": {},
   "outputs": [
    {
     "data": {
      "text/plain": [
       "75.032720702"
      ]
     },
     "execution_count": 101,
     "metadata": {},
     "output_type": "execute_result"
    }
   ],
   "source": [
    "# Basin Length\n",
    "param_mainchannel = gs.read_command('v.what',\n",
    "                                    map = 'v_mainchannel',\n",
    "                                    coordinates='%s,%s' % (east_o, north_o),\n",
    "                                    distance=5)\n",
    "basin_length = float(param_mainchannel.split('\\n')[7].split()[1])/1000 # km\n",
    "#basin_length"
   ]
  },
  {
   "cell_type": "code",
   "execution_count": 102,
   "metadata": {},
   "outputs": [
    {
     "name": "stdout",
     "output_type": "stream",
     "text": [
      "0.4725442921526407 0.24415734740038567\n"
     ]
    }
   ],
   "source": [
    "# Elongation Ratio\n",
    "# 1. Interpreted from Paper\n",
    "elon_ratio1 = perimeter_basin/(math.pi*basin_length)\n",
    "\n",
    "# 2. Based on r.basin\n",
    "elon_ratio2 = (2*math.sqrt(area_basin/math.pi))/basin_length\n",
    "\n",
    "print(elon_ratio1, elon_ratio2)"
   ]
  },
  {
   "cell_type": "code",
   "execution_count": 104,
   "metadata": {},
   "outputs": [
    {
     "data": {
      "text/plain": [
       "0.046819791716406545"
      ]
     },
     "execution_count": 104,
     "metadata": {},
     "output_type": "execute_result"
    }
   ],
   "source": [
    "# Form Factor (Shape Factor)\n",
    "form_factor = area_basin/(basin_length**2)\n",
    "form_factor"
   ]
  },
  {
   "cell_type": "code",
   "execution_count": 120,
   "metadata": {},
   "outputs": [
    {
     "name": "stdout",
     "output_type": "stream",
     "text": [
      "165.0 1532.0\n",
      "1367.0\n"
     ]
    }
   ],
   "source": [
    "# Relative Relief (Hmax - Hmin)\n",
    "height_attr = gs.read_command('r.info', \n",
    "                flags='r',\n",
    "                map='r_elevation')\n",
    "height_min = float(height_attr.strip().split('\\n')[0].split('=')[-1])\n",
    "height_max = float(height_attr.strip().split('\\n')[1].split('=')[-1])\n",
    "print(height_min, height_max)\n",
    "\n",
    "relative_relief = height_max - height_min\n",
    "print(relative_relief) # meter"
   ]
  },
  {
   "cell_type": "code",
   "execution_count": 121,
   "metadata": {},
   "outputs": [
    {
     "data": {
      "text/plain": [
       "0.018218718276645972"
      ]
     },
     "execution_count": 121,
     "metadata": {},
     "output_type": "execute_result"
    }
   ],
   "source": [
    "# Relief Ratio\n",
    "relief_ratio = (relative_relief/1000)/basin_length\n",
    "relief_ratio"
   ]
  },
  {
   "cell_type": "code",
   "execution_count": 122,
   "metadata": {},
   "outputs": [
    {
     "data": {
      "text/plain": [
       "0.8922976501305483"
      ]
     },
     "execution_count": 122,
     "metadata": {},
     "output_type": "execute_result"
    }
   ],
   "source": [
    "# Dissection Index\n",
    "dissection_index = relative_relief/height_max\n",
    "dissection_index"
   ]
  },
  {
   "cell_type": "code",
   "execution_count": 130,
   "metadata": {},
   "outputs": [
    {
     "name": "stderr",
     "output_type": "stream",
     "text": [
      "   0   3   6   9  12  15  18  21  24  27  30  33  36  39  42  45  48  51  54  57  60  63  66  69  72  75  78  81  84  87  90  93  96  99 100\n",
      "Gtk-Message: 16:05:38.628: Failed to load module \"atk-bridge\"\n",
      "Gtk-Message: 16:05:38.630: Failed to load module \"canberra-gtk-module\"\n"
     ]
    },
    {
     "name": "stdout",
     "output_type": "stream",
     "text": [
      "Tot. cells 158241.0\n",
      "===========================\n",
      "Hypsometric | quantiles\n",
      "===========================\n",
      "823 | 0.025\n",
      "755 | 0.05\n",
      "693 | 0.1\n",
      "582 | 0.25\n",
      "436 | 0.5\n",
      "250 | 0.75\n",
      "196 | 0.9\n",
      "176 | 0.975\n",
      "\n",
      "\n",
      "Done!\n"
     ]
    },
    {
     "data": {
      "text/plain": [
       "0"
      ]
     },
     "execution_count": 130,
     "metadata": {},
     "output_type": "execute_result"
    }
   ],
   "source": [
    "# Hypometric Curve\n",
    "gs.run_command('r.hypso', \n",
    "               map = 'r_elevation',\n",
    "               image=os.path.join(outpath,'hysometric_curve.png'),\n",
    "               flags='a')"
   ]
  },
  {
   "cell_type": "code",
   "execution_count": 129,
   "metadata": {},
   "outputs": [],
   "source": [
    "# Write Indices to CSV File\n",
    "csvfile = os.path.join(outpath, \"output_indices.csv\")\n",
    "with open(csvfile, 'w') as f:\n",
    "    writer = csv.writer(f)\n",
    "    writer.writerow(['Relative Relief (m)'] + [relative_relief])\n",
    "    writer.writerow(['Relief Ratio'] + [relief_ratio])\n",
    "    writer.writerow(['Dessection Index'] + [dissection_index])\n",
    "    writer.writerow(['Form factor'] + [form_factor])\n",
    "    writer.writerow(['Circularity Ratio'] + [circularity_ratio])\n",
    "    writer.writerow(['Elongation Ratio'] + [elon_ratio1])\n",
    "    writer.writerow(['Basin Area (km2)'] + [area_basin])\n",
    "    writer.writerow(['Basin Perimeter (km)'] + [perimeter_basin])"
   ]
  }
 ],
 "metadata": {
  "kernelspec": {
   "display_name": "Python 3 (Spyder)",
   "language": "python3",
   "name": "python3"
  },
  "language_info": {
   "codemirror_mode": {
    "name": "ipython",
    "version": 3
   },
   "file_extension": ".py",
   "mimetype": "text/x-python",
   "name": "python",
   "nbconvert_exporter": "python",
   "pygments_lexer": "ipython3",
   "version": "3.7.8"
  }
 },
 "nbformat": 4,
 "nbformat_minor": 4
}
